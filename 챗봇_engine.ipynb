{
 "cells": [
  {
   "cell_type": "code",
   "execution_count": 20,
   "metadata": {},
   "outputs": [],
   "source": [
    "class todaybeer():\n",
    "    def __init__(self):\n",
    "        self.vocabulary = self.pd.read_csv(\"색인사전.csv\",engine=\"python\",encoding=\"utf-8\")\n",
    "\n",
    "        self.vocabulary = self.vocabulary.to_dict(orient=\"records\")[0]        \n",
    "        self.model = self.models.load_model(\"chatbot.model\")\n",
    "        self.model.trainable = False\n",
    "        self.model.compile(loss=\"categorical_crossentropy\",optimizer=\"adam\",metrics=[\"accuracy\"])\n",
    "        \n",
    "    def engine(self,corpus):\n",
    "    ### 문장 판단 부분 ###\n",
    "        self.morphsVectored = list()\n",
    "        corpusList = list()\n",
    "        temporailyList = list()\n",
    "\n",
    "        self.tests = self.twitter_tag.nouns(corpus)\n",
    "\n",
    "        for i in self.tests:\n",
    "            try:\n",
    "                temporailyList.append(self.vocabulary[i])\n",
    "            except KeyError:\n",
    "                temporailyList.append(0)\n",
    "        corpusList.append(temporailyList)\n",
    "        self.vectorized_seq = self.sequence.pad_sequences(corpusList,maxlen=50)\n",
    "        return_classes = self.model.predict_classes(self.vectorized_seq)\n",
    "        return return_classes\n",
    "\n",
    "    def save_corpus(self,corpus,return_classes):\n",
    "        dbList = self.pd.read_csv(\"corpusDb.csv\",engine=\"python\",encoding=\"utf-8\")\n",
    "        userReturn = input(\"결과\")\n",
    "        raw = self.pd.DataFrame([{\"text\" : corpus, \"target\" : return_classes[0],\"user_return\" : userReturn}])\n",
    "        dbList = self.pd.concat([raw,dbList])\n",
    "        dbList.to_csv(\"corpusDb.csv\",encoding=\"utf-8\",index=False)\n",
    "\n",
    "\n",
    "\n",
    "class todaybeer_main(todaybeer):\n",
    "    \n",
    "    def __init__(self):\n",
    "        from keras import models\n",
    "        from keras.preprocessing import sequence\n",
    "\n",
    "        from sklearn.feature_extraction.text import CountVectorizer\n",
    "        import pandas as pd\n",
    "        \n",
    "        from pandas import DataFrame, Series\n",
    "        import numpy as np\n",
    "\n",
    "        import copy\n",
    "\n",
    "        from konlpy.tag import Okt\n",
    "\n",
    "        \n",
    "\n",
    "        def vect_tokenizer(text):\n",
    "            return twitter_tag.nouns(text)\n",
    "        \n",
    "        self.models = models\n",
    "        self.twitter_tag = Okt()\n",
    "        self.pd = pd\n",
    "        self.sequence = sequence\n",
    "        todaybeer.__init__(self)\n",
    "        \n",
    "        \n",
    "\n"
   ]
  },
  {
   "cell_type": "code",
   "execution_count": 21,
   "metadata": {},
   "outputs": [],
   "source": [
    "beer = todaybeer_main()"
   ]
  },
  {
   "cell_type": "code",
   "execution_count": null,
   "metadata": {},
   "outputs": [],
   "source": [
    "beer."
   ]
  },
  {
   "cell_type": "code",
   "execution_count": 22,
   "metadata": {},
   "outputs": [
    {
     "name": "stdout",
     "output_type": "stream",
     "text": [
      "[12]\n",
      "결과1\n"
     ]
    },
    {
     "name": "stderr",
     "output_type": "stream",
     "text": [
      "C:\\Users\\never\\Anaconda3\\envs\\tensorflow35\\lib\\site-packages\\ipykernel_launcher.py:32: FutureWarning: Sorting because non-concatenation axis is not aligned. A future version\n",
      "of pandas will change to not sort by default.\n",
      "\n",
      "To accept the future behavior, pass 'sort=True'.\n",
      "\n",
      "To retain the current behavior and silence the warning, pass sort=False\n",
      "\n"
     ]
    }
   ],
   "source": [
    "corpus = \"오늘 날씨 어때\"\n",
    "return_class = beer.engine(corpus)\n",
    "print(return_class)\n",
    "beer.save_corpus(corpus,return_class)"
   ]
  },
  {
   "cell_type": "code",
   "execution_count": null,
   "metadata": {},
   "outputs": [],
   "source": []
  }
 ],
 "metadata": {
  "kernelspec": {
   "display_name": "tensor",
   "language": "python",
   "name": "tensorflow35"
  },
  "language_info": {
   "codemirror_mode": {
    "name": "ipython",
    "version": 3
   },
   "file_extension": ".py",
   "mimetype": "text/x-python",
   "name": "python",
   "nbconvert_exporter": "python",
   "pygments_lexer": "ipython3",
   "version": "3.5.5"
  }
 },
 "nbformat": 4,
 "nbformat_minor": 2
}

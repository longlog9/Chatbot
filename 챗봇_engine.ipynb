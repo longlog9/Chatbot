{
 "cells": [
  {
   "cell_type": "code",
   "execution_count": 336,
   "metadata": {},
   "outputs": [],
   "source": [
    "def engine(corpus):\n",
    "\n",
    "    morphsVectored = list()\n",
    "    corpusList = list()\n",
    "    temporailyList = list()\n",
    "    \n",
    "    tests = twitter_tag.nouns(corpus)\n",
    "    \n",
    "    for i in tests:\n",
    "        try:\n",
    "            temporailyList.append(vocabulary[i])\n",
    "        except KeyError:\n",
    "            temporailyList.append(0)\n",
    "    corpusList.append(temporailyList)\n",
    "    vectorized_seq = sequence.pad_sequences(corpusList,maxlen=50)\n",
    "    return model.predict_classes(vectorized_seq)\n",
    "    "
   ]
  },
  {
   "cell_type": "code",
   "execution_count": 348,
   "metadata": {},
   "outputs": [
    {
     "data": {
      "text/plain": [
       "array([2], dtype=int64)"
      ]
     },
     "execution_count": 348,
     "metadata": {},
     "output_type": "execute_result"
    }
   ],
   "source": [
    "engine(\"집에서 뒹굴거리면서 먹기에 좋은 맥주 없을까\")"
   ]
  },
  {
   "cell_type": "code",
   "execution_count": null,
   "metadata": {},
   "outputs": [],
   "source": []
  }
 ],
 "metadata": {
  "kernelspec": {
   "display_name": "tensor",
   "language": "python",
   "name": "tensorflow35"
  },
  "language_info": {
   "codemirror_mode": {
    "name": "ipython",
    "version": 3
   },
   "file_extension": ".py",
   "mimetype": "text/x-python",
   "name": "python",
   "nbconvert_exporter": "python",
   "pygments_lexer": "ipython3",
   "version": "3.5.5"
  }
 },
 "nbformat": 4,
 "nbformat_minor": 2
}

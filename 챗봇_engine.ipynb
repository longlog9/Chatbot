{
 "cells": [
  {
   "cell_type": "code",
   "execution_count": 427,
   "metadata": {},
   "outputs": [],
   "source": [
    "def engine(corpus):\n",
    "### 문장 판단 부분 ###\n",
    "    morphsVectored = list()\n",
    "    corpusList = list()\n",
    "    temporailyList = list()\n",
    "    \n",
    "    tests = twitter_tag.nouns(corpus)\n",
    "    \n",
    "    for i in tests:\n",
    "        try:\n",
    "            temporailyList.append(vocabulary[i])\n",
    "        except KeyError:\n",
    "            temporailyList.append(0)\n",
    "    corpusList.append(temporailyList)\n",
    "    vectorized_seq = sequence.pad_sequences(corpusList,maxlen=50)\n",
    "    return_classes = model.predict_classes(vectorized_seq)\n",
    "    save_corpus(corpus,return_classes)\n",
    "    return return_classes"
   ]
  },
  {
   "cell_type": "code",
   "execution_count": 455,
   "metadata": {},
   "outputs": [],
   "source": [
    "def save_corpus(corpus,return_classes):\n",
    "    dbList = pd.read_csv(\"corpusDb.csv\",engine=\"python\",encoding=\"utf-8\")\n",
    "    userReturn = input(\"결과\")\n",
    "    raw = DataFrame([{\"text\" : corpus, \"target\" : return_classes[0],\"user_return\" : userReturn}])\n",
    "    dbList = pd.concat([raw,dbList])\n",
    "    dbList.to_csv(\"corpusDb.csv\",encoding=\"utf-8\",index=False)"
   ]
  },
  {
   "cell_type": "code",
   "execution_count": 462,
   "metadata": {},
   "outputs": [
    {
     "name": "stdout",
     "output_type": "stream",
     "text": [
      "결과1\n"
     ]
    },
    {
     "name": "stderr",
     "output_type": "stream",
     "text": [
      "C:\\Users\\never\\Anaconda3\\envs\\tensorflow35\\lib\\site-packages\\ipykernel_launcher.py:5: FutureWarning: Sorting because non-concatenation axis is not aligned. A future version\n",
      "of pandas will change to not sort by default.\n",
      "\n",
      "To accept the future behavior, pass 'sort=True'.\n",
      "\n",
      "To retain the current behavior and silence the warning, pass sort=False\n",
      "\n",
      "  \"\"\"\n"
     ]
    },
    {
     "data": {
      "text/plain": [
       "array([11], dtype=int64)"
      ]
     },
     "execution_count": 462,
     "metadata": {},
     "output_type": "execute_result"
    }
   ],
   "source": [
    "engine(\"회식할때 좋은 맥주 추천해줘\")"
   ]
  },
  {
   "cell_type": "code",
   "execution_count": 451,
   "metadata": {},
   "outputs": [],
   "source": [
    "dbList.to_csv(\"corpusDb.csv\",encoding=\"utf-8\")"
   ]
  }
 ],
 "metadata": {
  "kernelspec": {
   "display_name": "tensor",
   "language": "python",
   "name": "tensorflow35"
  },
  "language_info": {
   "codemirror_mode": {
    "name": "ipython",
    "version": 3
   },
   "file_extension": ".py",
   "mimetype": "text/x-python",
   "name": "python",
   "nbconvert_exporter": "python",
   "pygments_lexer": "ipython3",
   "version": "3.5.5"
  }
 },
 "nbformat": 4,
 "nbformat_minor": 2
}

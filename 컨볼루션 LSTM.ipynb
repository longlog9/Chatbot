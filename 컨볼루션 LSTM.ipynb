{
 "cells": [
  {
   "cell_type": "code",
   "execution_count": 48,
   "metadata": {},
   "outputs": [],
   "source": [
    "from keras.models import Sequential\n",
    "from keras.layers import Dense\n",
    "from keras.layers import Flatten\n",
    "from keras.layers import Embedding\n",
    "from keras.layers.convolutional import Conv1D\n",
    "from keras.layers.convolutional import MaxPooling1D\n",
    "from keras.layers import Dropout\n",
    "from keras.preprocessing import sequence\n",
    "from keras.layers import LSTM\n",
    "from keras.utils import np_utils\n",
    "\n",
    "from sklearn.model_selection import train_test_split\n",
    "from sklearn.feature_extraction.text import CountVectorizer\n",
    "import pandas as pd\n",
    "from pandas import DataFrame, Series\n",
    "import numpy as np\n",
    "\n",
    "import re\n",
    "\n",
    "import matplotlib as mpl\n",
    "import matplotlib.pyplot as plt\n",
    "import matplotlib.font_manager as fm\n",
    "\n",
    "import copy"
   ]
  },
  {
   "cell_type": "code",
   "execution_count": 55,
   "metadata": {},
   "outputs": [],
   "source": [
    "rawdata = pd.read_csv(\"최종리스트.csv\",engine=\"python\",encoding = \"cp949\",names=[\"text\",\"target\"],skiprows=1)"
   ]
  },
  {
   "cell_type": "code",
   "execution_count": 56,
   "metadata": {},
   "outputs": [
    {
     "data": {
      "text/html": [
       "<div>\n",
       "<style scoped>\n",
       "    .dataframe tbody tr th:only-of-type {\n",
       "        vertical-align: middle;\n",
       "    }\n",
       "\n",
       "    .dataframe tbody tr th {\n",
       "        vertical-align: top;\n",
       "    }\n",
       "\n",
       "    .dataframe thead th {\n",
       "        text-align: right;\n",
       "    }\n",
       "</style>\n",
       "<table border=\"1\" class=\"dataframe\">\n",
       "  <thead>\n",
       "    <tr style=\"text-align: right;\">\n",
       "      <th></th>\n",
       "      <th>text</th>\n",
       "      <th>target</th>\n",
       "    </tr>\n",
       "  </thead>\n",
       "  <tbody>\n",
       "    <tr>\n",
       "      <th>0</th>\n",
       "      <td>살아남기 방송안무 너구리 신나는 짜장라면 간식거리 두통약 자취생활 거울 칼로리 길...</td>\n",
       "      <td>기네스</td>\n",
       "    </tr>\n",
       "    <tr>\n",
       "      <th>1</th>\n",
       "      <td>팔로우좋아요 길거리 자취녀 기네스 좋아유 장거리 갑분싸 공연 데일리룩 만취 새옷 ...</td>\n",
       "      <td>기네스</td>\n",
       "    </tr>\n",
       "    <tr>\n",
       "      <th>2</th>\n",
       "      <td>저녁밥상 칼로리 산책냥 느끼 자취녀 기네스 예술가 방송 갑분싸 공연 데일리룩 만취...</td>\n",
       "      <td>기네스</td>\n",
       "    </tr>\n",
       "    <tr>\n",
       "      <th>3</th>\n",
       "      <td>인터넷블랙잭  바카라  카지노  온라인카지노  모바일카지노  바카라  룰렛  블랙...</td>\n",
       "      <td>기네스</td>\n",
       "    </tr>\n",
       "    <tr>\n",
       "      <th>4</th>\n",
       "      <td>마이 춥네 히터랑나랑 김언니와 함께</td>\n",
       "      <td>기네스</td>\n",
       "    </tr>\n",
       "  </tbody>\n",
       "</table>\n",
       "</div>"
      ],
      "text/plain": [
       "                                                text target\n",
       "0   살아남기 방송안무 너구리 신나는 짜장라면 간식거리 두통약 자취생활 거울 칼로리 길...    기네스\n",
       "1   팔로우좋아요 길거리 자취녀 기네스 좋아유 장거리 갑분싸 공연 데일리룩 만취 새옷 ...    기네스\n",
       "2   저녁밥상 칼로리 산책냥 느끼 자취녀 기네스 예술가 방송 갑분싸 공연 데일리룩 만취...    기네스\n",
       "3   인터넷블랙잭  바카라  카지노  온라인카지노  모바일카지노  바카라  룰렛  블랙...    기네스\n",
       "4                                마이 춥네 히터랑나랑 김언니와 함께    기네스"
      ]
     },
     "execution_count": 56,
     "metadata": {},
     "output_type": "execute_result"
    }
   ],
   "source": [
    "rawdata.head()"
   ]
  },
  {
   "cell_type": "code",
   "execution_count": 57,
   "metadata": {},
   "outputs": [],
   "source": [
    "rawdata = copy.copy(rawdata[rawdata[\"target\"] != \"필라이트\"])"
   ]
  },
  {
   "cell_type": "code",
   "execution_count": 58,
   "metadata": {},
   "outputs": [
    {
     "data": {
      "text/plain": [
       "26768"
      ]
     },
     "execution_count": 58,
     "metadata": {},
     "output_type": "execute_result"
    }
   ],
   "source": [
    "#원본 데이터셋의 리뷰 수\n",
    "\n",
    "len(rawdata[\"text\"])"
   ]
  },
  {
   "cell_type": "code",
   "execution_count": 59,
   "metadata": {},
   "outputs": [],
   "source": [
    "rawdata = rawdata[rawdata[\"text\"].duplicated() != True]"
   ]
  },
  {
   "cell_type": "code",
   "execution_count": 60,
   "metadata": {},
   "outputs": [
    {
     "data": {
      "text/plain": [
       "0"
      ]
     },
     "execution_count": 60,
     "metadata": {},
     "output_type": "execute_result"
    }
   ],
   "source": [
    "len(np.where(rawdata[\"text\"].duplicated() == True)[0])"
   ]
  },
  {
   "cell_type": "code",
   "execution_count": 61,
   "metadata": {},
   "outputs": [],
   "source": [
    "rawdata = rawdata.dropna()"
   ]
  },
  {
   "cell_type": "code",
   "execution_count": 62,
   "metadata": {},
   "outputs": [
    {
     "data": {
      "text/plain": [
       "0     살아남기 방송안무 너구리 신나는 짜장라면 간식거리 두통약 자취생활 거울 칼로리 길...\n",
       "1     팔로우좋아요 길거리 자취녀 기네스 좋아유 장거리 갑분싸 공연 데일리룩 만취 새옷 ...\n",
       "2     저녁밥상 칼로리 산책냥 느끼 자취녀 기네스 예술가 방송 갑분싸 공연 데일리룩 만취...\n",
       "3     인터넷블랙잭  바카라  카지노  온라인카지노  모바일카지노  바카라  룰렛  블랙...\n",
       "4                                  마이 춥네 히터랑나랑 김언니와 함께\n",
       "Name: text, dtype: object"
      ]
     },
     "execution_count": 62,
     "metadata": {},
     "output_type": "execute_result"
    }
   ],
   "source": [
    "rawdata[\"text\"].head()"
   ]
  },
  {
   "cell_type": "code",
   "execution_count": 63,
   "metadata": {},
   "outputs": [],
   "source": [
    "target = rawdata[\"target\"]"
   ]
  },
  {
   "cell_type": "code",
   "execution_count": 64,
   "metadata": {},
   "outputs": [],
   "source": [
    "text = rawdata[\"text\"]"
   ]
  },
  {
   "cell_type": "code",
   "execution_count": 65,
   "metadata": {},
   "outputs": [
    {
     "data": {
      "text/plain": [
       "24574"
      ]
     },
     "execution_count": 65,
     "metadata": {},
     "output_type": "execute_result"
    }
   ],
   "source": [
    "len(target)"
   ]
  },
  {
   "cell_type": "code",
   "execution_count": 66,
   "metadata": {},
   "outputs": [
    {
     "data": {
      "text/plain": [
       "24574"
      ]
     },
     "execution_count": 66,
     "metadata": {},
     "output_type": "execute_result"
    }
   ],
   "source": [
    "len(text)"
   ]
  },
  {
   "cell_type": "code",
   "execution_count": 67,
   "metadata": {},
   "outputs": [],
   "source": [
    "from konlpy.tag import Okt\n",
    "twitter_tag = Okt()\n",
    "\n",
    "def vect_tokenizer(text):\n",
    "    return twitter_tag.nouns(text)"
   ]
  },
  {
   "cell_type": "code",
   "execution_count": 68,
   "metadata": {},
   "outputs": [],
   "source": [
    "vect = CountVectorizer(tokenizer = vect_tokenizer ,min_df = 10, analyzer = \"word\")"
   ]
  },
  {
   "cell_type": "code",
   "execution_count": 69,
   "metadata": {},
   "outputs": [
    {
     "data": {
      "text/plain": [
       "CountVectorizer(analyzer='word', binary=False, decode_error='strict',\n",
       "        dtype=<class 'numpy.int64'>, encoding='utf-8', input='content',\n",
       "        lowercase=True, max_df=1.0, max_features=None, min_df=10,\n",
       "        ngram_range=(1, 1), preprocessor=None, stop_words=None,\n",
       "        strip_accents=None, token_pattern='(?u)\\\\b\\\\w\\\\w+\\\\b',\n",
       "        tokenizer=<function vect_tokenizer at 0x0000014017A0CE18>,\n",
       "        vocabulary=None)"
      ]
     },
     "execution_count": 69,
     "metadata": {},
     "output_type": "execute_result"
    }
   ],
   "source": [
    "vect.fit(text)"
   ]
  },
  {
   "cell_type": "code",
   "execution_count": 71,
   "metadata": {},
   "outputs": [],
   "source": [
    "names = re.compile(\"[맥주]+\")\n",
    "\n",
    "for i,j in target.items():\n",
    "    if j.endswith(\"맥주\"):\n",
    "        target[i] = names.sub(\"\",j)\n",
    "    else : pass"
   ]
  },
  {
   "cell_type": "code",
   "execution_count": 72,
   "metadata": {},
   "outputs": [
    {
     "name": "stdout",
     "output_type": "stream",
     "text": [
      "기네스 509\n",
      "칼스버그 4546\n",
      "코젤 4622\n",
      "호가든 5328\n",
      "버드와이저 1950\n",
      "산미구엘 2324\n",
      "삿포로 2364\n",
      "아사히 2984\n",
      "칭따오 4509\n",
      "카스 4525\n",
      "필스너 5118\n",
      "하이네켄 5151\n",
      "하이트 5155\n"
     ]
    }
   ],
   "source": [
    "#타겟변수의 색인 사전 존재여부 확인\n",
    "\n",
    "for i in target.unique():\n",
    "    try:\n",
    "        print(i,vect.vocabulary_[i])\n",
    "    except : \n",
    "        print(i,\"없음\")"
   ]
  },
  {
   "cell_type": "code",
   "execution_count": 73,
   "metadata": {},
   "outputs": [],
   "source": [
    "morph = list()\n",
    "\n",
    "for i in text:\n",
    "    raw = twitter_tag.nouns(i)\n",
    "    #raw = [raw[k] for k in np.where([len(j) != 1 for j in raw])[0]]\n",
    "    morph.append(raw)"
   ]
  },
  {
   "cell_type": "code",
   "execution_count": 74,
   "metadata": {},
   "outputs": [],
   "source": [
    "vectorized = list()\n",
    "\n",
    "\n",
    "for k in morph:\n",
    "    raw = list()\n",
    "    for i in k:\n",
    "        try:\n",
    "            raw.append(vect.vocabulary_[i])\n",
    "        except :\n",
    "            raw.append(0)\n",
    "    vectorized.append(raw)"
   ]
  },
  {
   "cell_type": "code",
   "execution_count": 394,
   "metadata": {},
   "outputs": [],
   "source": [
    "DataFrame(vectorized).to_csv(\"벡터화.csv\")"
   ]
  },
  {
   "cell_type": "code",
   "execution_count": 75,
   "metadata": {},
   "outputs": [
    {
     "data": {
      "text/plain": [
       "24574"
      ]
     },
     "execution_count": 75,
     "metadata": {},
     "output_type": "execute_result"
    }
   ],
   "source": [
    "len(vectorized)"
   ]
  },
  {
   "cell_type": "code",
   "execution_count": 76,
   "metadata": {},
   "outputs": [],
   "source": [
    "from sklearn.preprocessing import LabelEncoder\n",
    "\n",
    "le = LabelEncoder()\n",
    "target_encoded = le.fit_transform(target)"
   ]
  },
  {
   "cell_type": "code",
   "execution_count": 77,
   "metadata": {},
   "outputs": [
    {
     "data": {
      "text/plain": [
       "array([ 0,  0,  0, ..., 11, 11, 11])"
      ]
     },
     "execution_count": 77,
     "metadata": {},
     "output_type": "execute_result"
    }
   ],
   "source": [
    "target_encoded"
   ]
  },
  {
   "cell_type": "code",
   "execution_count": 78,
   "metadata": {},
   "outputs": [
    {
     "data": {
      "text/plain": [
       "24574"
      ]
     },
     "execution_count": 78,
     "metadata": {},
     "output_type": "execute_result"
    }
   ],
   "source": [
    "len(target_encoded)"
   ]
  },
  {
   "cell_type": "code",
   "execution_count": 395,
   "metadata": {},
   "outputs": [],
   "source": [
    "DataFrame(target_encoded).to_csv(\"타겟.csv\")"
   ]
  },
  {
   "cell_type": "code",
   "execution_count": 79,
   "metadata": {},
   "outputs": [],
   "source": [
    "a = 0\n",
    "b = 0\n",
    "\n",
    "for i in range(0,len(vectorized)):\n",
    "    a += len(vectorized[i])\n",
    "\n",
    "mu = a/len(vectorized)\n",
    "\n",
    "for i in range(0, len(vectorized)):\n",
    "    b += (len(vectorized[i]) - mu)**2\n",
    "\n",
    "std_dev = (b/len(vectorized))**0.5"
   ]
  },
  {
   "cell_type": "code",
   "execution_count": 82,
   "metadata": {},
   "outputs": [
    {
     "name": "stdout",
     "output_type": "stream",
     "text": [
      "25.25665337348417 21.40420702626632\n"
     ]
    }
   ],
   "source": [
    "print(mu,std_dev)"
   ]
  },
  {
   "cell_type": "code",
   "execution_count": 83,
   "metadata": {},
   "outputs": [],
   "source": [
    "vectorized_seq = sequence.pad_sequences(vectorized,maxlen=50)"
   ]
  },
  {
   "cell_type": "code",
   "execution_count": 84,
   "metadata": {},
   "outputs": [
    {
     "data": {
      "text/plain": [
       "array([[   0,    0,    0, ...,  555,  509, 3438],\n",
       "       [   0,    0,    0, ..., 3741, 3741, 2929],\n",
       "       [   0,    0,    0, ..., 3778, 1298, 2837],\n",
       "       ...,\n",
       "       [   0,    0,    0, ..., 3194, 2560, 4068],\n",
       "       [   0,    0,    0, ..., 3225, 3634, 2626],\n",
       "       [   0,    0,    0, ..., 1007,  700, 4996]])"
      ]
     },
     "execution_count": 84,
     "metadata": {},
     "output_type": "execute_result"
    }
   ],
   "source": [
    "vectorized_seq"
   ]
  },
  {
   "cell_type": "code",
   "execution_count": 85,
   "metadata": {},
   "outputs": [],
   "source": [
    "X_train,X_test,y_train,y_test = train_test_split(vectorized_seq, target_encoded)"
   ]
  },
  {
   "cell_type": "code",
   "execution_count": 86,
   "metadata": {},
   "outputs": [],
   "source": [
    "y_train = np_utils.to_categorical(y_train)\n",
    "y_test = np_utils.to_categorical(y_test)"
   ]
  },
  {
   "cell_type": "code",
   "execution_count": 87,
   "metadata": {},
   "outputs": [],
   "source": [
    "model = Sequential()\n",
    "model.add(Embedding(len(vectorized_seq),128,input_length = 50))\n",
    "model.add(Dropout(0.2))\n",
    "model.add(Conv1D(256,3,padding=\"valid\",activation=\"relu\",strides=1))\n",
    "model.add(MaxPooling1D(pool_size = 4))\n",
    "model.add(LSTM(128))\n",
    "model.add(Dense(13,activation=\"softmax\"))\n",
    "\n",
    "model.compile(loss=\"categorical_crossentropy\",optimizer=\"adam\",metrics=[\"accuracy\"])"
   ]
  },
  {
   "cell_type": "code",
   "execution_count": 88,
   "metadata": {},
   "outputs": [],
   "source": [
    "from IPython.display import SVG\n",
    "from keras.utils.vis_utils import model_to_dot\n",
    "from keras.utils import plot_model\n",
    "import pydot\n",
    "\n",
    "%matplotlib inline"
   ]
  },
  {
   "cell_type": "code",
   "execution_count": 89,
   "metadata": {},
   "outputs": [
    {
     "data": {
      "image/svg+xml": [
       "<svg height=\"543pt\" viewBox=\"0.00 0.00 377.00 543.00\" width=\"377pt\" xmlns=\"http://www.w3.org/2000/svg\" xmlns:xlink=\"http://www.w3.org/1999/xlink\">\n",
       "<g class=\"graph\" id=\"graph0\" transform=\"scale(1 1) rotate(0) translate(4 539)\">\n",
       "<title>G</title>\n",
       "<polygon fill=\"white\" points=\"-4,4 -4,-539 373,-539 373,4 -4,4\" stroke=\"none\"/>\n",
       "<!-- 1374569589616 -->\n",
       "<g class=\"node\" id=\"node1\"><title>1374569589616</title>\n",
       "<polygon fill=\"none\" points=\"23,-415.5 23,-461.5 346,-461.5 346,-415.5 23,-415.5\" stroke=\"black\"/>\n",
       "<text font-family=\"Times New Roman,serif\" font-size=\"14.00\" text-anchor=\"middle\" x=\"104.5\" y=\"-434.8\">embedding_6: Embedding</text>\n",
       "<polyline fill=\"none\" points=\"186,-415.5 186,-461.5 \" stroke=\"black\"/>\n",
       "<text font-family=\"Times New Roman,serif\" font-size=\"14.00\" text-anchor=\"middle\" x=\"214\" y=\"-446.3\">input:</text>\n",
       "<polyline fill=\"none\" points=\"186,-438.5 242,-438.5 \" stroke=\"black\"/>\n",
       "<text font-family=\"Times New Roman,serif\" font-size=\"14.00\" text-anchor=\"middle\" x=\"214\" y=\"-423.3\">output:</text>\n",
       "<polyline fill=\"none\" points=\"242,-415.5 242,-461.5 \" stroke=\"black\"/>\n",
       "<text font-family=\"Times New Roman,serif\" font-size=\"14.00\" text-anchor=\"middle\" x=\"294\" y=\"-446.3\">(None, 50)</text>\n",
       "<polyline fill=\"none\" points=\"242,-438.5 346,-438.5 \" stroke=\"black\"/>\n",
       "<text font-family=\"Times New Roman,serif\" font-size=\"14.00\" text-anchor=\"middle\" x=\"294\" y=\"-423.3\">(None, 50, 128)</text>\n",
       "</g>\n",
       "<!-- 1374569812040 -->\n",
       "<g class=\"node\" id=\"node2\"><title>1374569812040</title>\n",
       "<polygon fill=\"none\" points=\"39.5,-332.5 39.5,-378.5 329.5,-378.5 329.5,-332.5 39.5,-332.5\" stroke=\"black\"/>\n",
       "<text font-family=\"Times New Roman,serif\" font-size=\"14.00\" text-anchor=\"middle\" x=\"104.5\" y=\"-351.8\">dropout_6: Dropout</text>\n",
       "<polyline fill=\"none\" points=\"169.5,-332.5 169.5,-378.5 \" stroke=\"black\"/>\n",
       "<text font-family=\"Times New Roman,serif\" font-size=\"14.00\" text-anchor=\"middle\" x=\"197.5\" y=\"-363.3\">input:</text>\n",
       "<polyline fill=\"none\" points=\"169.5,-355.5 225.5,-355.5 \" stroke=\"black\"/>\n",
       "<text font-family=\"Times New Roman,serif\" font-size=\"14.00\" text-anchor=\"middle\" x=\"197.5\" y=\"-340.3\">output:</text>\n",
       "<polyline fill=\"none\" points=\"225.5,-332.5 225.5,-378.5 \" stroke=\"black\"/>\n",
       "<text font-family=\"Times New Roman,serif\" font-size=\"14.00\" text-anchor=\"middle\" x=\"277.5\" y=\"-363.3\">(None, 50, 128)</text>\n",
       "<polyline fill=\"none\" points=\"225.5,-355.5 329.5,-355.5 \" stroke=\"black\"/>\n",
       "<text font-family=\"Times New Roman,serif\" font-size=\"14.00\" text-anchor=\"middle\" x=\"277.5\" y=\"-340.3\">(None, 50, 128)</text>\n",
       "</g>\n",
       "<!-- 1374569589616&#45;&gt;1374569812040 -->\n",
       "<g class=\"edge\" id=\"edge2\"><title>1374569589616-&gt;1374569812040</title>\n",
       "<path d=\"M184.5,-415.366C184.5,-407.152 184.5,-397.658 184.5,-388.725\" fill=\"none\" stroke=\"black\"/>\n",
       "<polygon fill=\"black\" points=\"188,-388.607 184.5,-378.607 181,-388.607 188,-388.607\" stroke=\"black\"/>\n",
       "</g>\n",
       "<!-- 1374569815792 -->\n",
       "<g class=\"node\" id=\"node3\"><title>1374569815792</title>\n",
       "<polygon fill=\"none\" points=\"41,-249.5 41,-295.5 328,-295.5 328,-249.5 41,-249.5\" stroke=\"black\"/>\n",
       "<text font-family=\"Times New Roman,serif\" font-size=\"14.00\" text-anchor=\"middle\" x=\"104.5\" y=\"-268.8\">conv1d_6: Conv1D</text>\n",
       "<polyline fill=\"none\" points=\"168,-249.5 168,-295.5 \" stroke=\"black\"/>\n",
       "<text font-family=\"Times New Roman,serif\" font-size=\"14.00\" text-anchor=\"middle\" x=\"196\" y=\"-280.3\">input:</text>\n",
       "<polyline fill=\"none\" points=\"168,-272.5 224,-272.5 \" stroke=\"black\"/>\n",
       "<text font-family=\"Times New Roman,serif\" font-size=\"14.00\" text-anchor=\"middle\" x=\"196\" y=\"-257.3\">output:</text>\n",
       "<polyline fill=\"none\" points=\"224,-249.5 224,-295.5 \" stroke=\"black\"/>\n",
       "<text font-family=\"Times New Roman,serif\" font-size=\"14.00\" text-anchor=\"middle\" x=\"276\" y=\"-280.3\">(None, 50, 128)</text>\n",
       "<polyline fill=\"none\" points=\"224,-272.5 328,-272.5 \" stroke=\"black\"/>\n",
       "<text font-family=\"Times New Roman,serif\" font-size=\"14.00\" text-anchor=\"middle\" x=\"276\" y=\"-257.3\">(None, 48, 256)</text>\n",
       "</g>\n",
       "<!-- 1374569812040&#45;&gt;1374569815792 -->\n",
       "<g class=\"edge\" id=\"edge3\"><title>1374569812040-&gt;1374569815792</title>\n",
       "<path d=\"M184.5,-332.366C184.5,-324.152 184.5,-314.658 184.5,-305.725\" fill=\"none\" stroke=\"black\"/>\n",
       "<polygon fill=\"black\" points=\"188,-305.607 184.5,-295.607 181,-305.607 188,-305.607\" stroke=\"black\"/>\n",
       "</g>\n",
       "<!-- 1374569814336 -->\n",
       "<g class=\"node\" id=\"node4\"><title>1374569814336</title>\n",
       "<polygon fill=\"none\" points=\"0,-166.5 0,-212.5 369,-212.5 369,-166.5 0,-166.5\" stroke=\"black\"/>\n",
       "<text font-family=\"Times New Roman,serif\" font-size=\"14.00\" text-anchor=\"middle\" x=\"104.5\" y=\"-185.8\">max_pooling1d_6: MaxPooling1D</text>\n",
       "<polyline fill=\"none\" points=\"209,-166.5 209,-212.5 \" stroke=\"black\"/>\n",
       "<text font-family=\"Times New Roman,serif\" font-size=\"14.00\" text-anchor=\"middle\" x=\"237\" y=\"-197.3\">input:</text>\n",
       "<polyline fill=\"none\" points=\"209,-189.5 265,-189.5 \" stroke=\"black\"/>\n",
       "<text font-family=\"Times New Roman,serif\" font-size=\"14.00\" text-anchor=\"middle\" x=\"237\" y=\"-174.3\">output:</text>\n",
       "<polyline fill=\"none\" points=\"265,-166.5 265,-212.5 \" stroke=\"black\"/>\n",
       "<text font-family=\"Times New Roman,serif\" font-size=\"14.00\" text-anchor=\"middle\" x=\"317\" y=\"-197.3\">(None, 48, 256)</text>\n",
       "<polyline fill=\"none\" points=\"265,-189.5 369,-189.5 \" stroke=\"black\"/>\n",
       "<text font-family=\"Times New Roman,serif\" font-size=\"14.00\" text-anchor=\"middle\" x=\"317\" y=\"-174.3\">(None, 12, 256)</text>\n",
       "</g>\n",
       "<!-- 1374569815792&#45;&gt;1374569814336 -->\n",
       "<g class=\"edge\" id=\"edge4\"><title>1374569815792-&gt;1374569814336</title>\n",
       "<path d=\"M184.5,-249.366C184.5,-241.152 184.5,-231.658 184.5,-222.725\" fill=\"none\" stroke=\"black\"/>\n",
       "<polygon fill=\"black\" points=\"188,-222.607 184.5,-212.607 181,-222.607 188,-222.607\" stroke=\"black\"/>\n",
       "</g>\n",
       "<!-- 1374569813328 -->\n",
       "<g class=\"node\" id=\"node5\"><title>1374569813328</title>\n",
       "<polygon fill=\"none\" points=\"55.5,-83.5 55.5,-129.5 313.5,-129.5 313.5,-83.5 55.5,-83.5\" stroke=\"black\"/>\n",
       "<text font-family=\"Times New Roman,serif\" font-size=\"14.00\" text-anchor=\"middle\" x=\"104.5\" y=\"-102.8\">lstm_6: LSTM</text>\n",
       "<polyline fill=\"none\" points=\"153.5,-83.5 153.5,-129.5 \" stroke=\"black\"/>\n",
       "<text font-family=\"Times New Roman,serif\" font-size=\"14.00\" text-anchor=\"middle\" x=\"181.5\" y=\"-114.3\">input:</text>\n",
       "<polyline fill=\"none\" points=\"153.5,-106.5 209.5,-106.5 \" stroke=\"black\"/>\n",
       "<text font-family=\"Times New Roman,serif\" font-size=\"14.00\" text-anchor=\"middle\" x=\"181.5\" y=\"-91.3\">output:</text>\n",
       "<polyline fill=\"none\" points=\"209.5,-83.5 209.5,-129.5 \" stroke=\"black\"/>\n",
       "<text font-family=\"Times New Roman,serif\" font-size=\"14.00\" text-anchor=\"middle\" x=\"261.5\" y=\"-114.3\">(None, 12, 256)</text>\n",
       "<polyline fill=\"none\" points=\"209.5,-106.5 313.5,-106.5 \" stroke=\"black\"/>\n",
       "<text font-family=\"Times New Roman,serif\" font-size=\"14.00\" text-anchor=\"middle\" x=\"261.5\" y=\"-91.3\">(None, 128)</text>\n",
       "</g>\n",
       "<!-- 1374569814336&#45;&gt;1374569813328 -->\n",
       "<g class=\"edge\" id=\"edge5\"><title>1374569814336-&gt;1374569813328</title>\n",
       "<path d=\"M184.5,-166.366C184.5,-158.152 184.5,-148.658 184.5,-139.725\" fill=\"none\" stroke=\"black\"/>\n",
       "<polygon fill=\"black\" points=\"188,-139.607 184.5,-129.607 181,-139.607 188,-139.607\" stroke=\"black\"/>\n",
       "</g>\n",
       "<!-- 1374566951512 -->\n",
       "<g class=\"node\" id=\"node6\"><title>1374566951512</title>\n",
       "<polygon fill=\"none\" points=\"63,-0.5 63,-46.5 306,-46.5 306,-0.5 63,-0.5\" stroke=\"black\"/>\n",
       "<text font-family=\"Times New Roman,serif\" font-size=\"14.00\" text-anchor=\"middle\" x=\"115\" y=\"-19.8\">dense_6: Dense</text>\n",
       "<polyline fill=\"none\" points=\"167,-0.5 167,-46.5 \" stroke=\"black\"/>\n",
       "<text font-family=\"Times New Roman,serif\" font-size=\"14.00\" text-anchor=\"middle\" x=\"195\" y=\"-31.3\">input:</text>\n",
       "<polyline fill=\"none\" points=\"167,-23.5 223,-23.5 \" stroke=\"black\"/>\n",
       "<text font-family=\"Times New Roman,serif\" font-size=\"14.00\" text-anchor=\"middle\" x=\"195\" y=\"-8.3\">output:</text>\n",
       "<polyline fill=\"none\" points=\"223,-0.5 223,-46.5 \" stroke=\"black\"/>\n",
       "<text font-family=\"Times New Roman,serif\" font-size=\"14.00\" text-anchor=\"middle\" x=\"264.5\" y=\"-31.3\">(None, 128)</text>\n",
       "<polyline fill=\"none\" points=\"223,-23.5 306,-23.5 \" stroke=\"black\"/>\n",
       "<text font-family=\"Times New Roman,serif\" font-size=\"14.00\" text-anchor=\"middle\" x=\"264.5\" y=\"-8.3\">(None, 13)</text>\n",
       "</g>\n",
       "<!-- 1374569813328&#45;&gt;1374566951512 -->\n",
       "<g class=\"edge\" id=\"edge6\"><title>1374569813328-&gt;1374566951512</title>\n",
       "<path d=\"M184.5,-83.3664C184.5,-75.1516 184.5,-65.6579 184.5,-56.7252\" fill=\"none\" stroke=\"black\"/>\n",
       "<polygon fill=\"black\" points=\"188,-56.6068 184.5,-46.6068 181,-56.6069 188,-56.6068\" stroke=\"black\"/>\n",
       "</g>\n",
       "<!-- 1374569813384 -->\n",
       "<g class=\"node\" id=\"node7\"><title>1374569813384</title>\n",
       "<polygon fill=\"none\" points=\"132.5,-498.5 132.5,-534.5 236.5,-534.5 236.5,-498.5 132.5,-498.5\" stroke=\"black\"/>\n",
       "<text font-family=\"Times New Roman,serif\" font-size=\"14.00\" text-anchor=\"middle\" x=\"184.5\" y=\"-512.8\">1374569813384</text>\n",
       "</g>\n",
       "<!-- 1374569813384&#45;&gt;1374569589616 -->\n",
       "<g class=\"edge\" id=\"edge1\"><title>1374569813384-&gt;1374569589616</title>\n",
       "<path d=\"M184.5,-498.254C184.5,-490.363 184.5,-480.749 184.5,-471.602\" fill=\"none\" stroke=\"black\"/>\n",
       "<polygon fill=\"black\" points=\"188,-471.591 184.5,-461.591 181,-471.591 188,-471.591\" stroke=\"black\"/>\n",
       "</g>\n",
       "</g>\n",
       "</svg>"
      ],
      "text/plain": [
       "<IPython.core.display.SVG object>"
      ]
     },
     "execution_count": 89,
     "metadata": {},
     "output_type": "execute_result"
    }
   ],
   "source": [
    "SVG(model_to_dot(model,show_shapes=True).create(prog = \"dot\",format=\"svg\"))"
   ]
  },
  {
   "cell_type": "code",
   "execution_count": 133,
   "metadata": {
    "scrolled": true
   },
   "outputs": [
    {
     "name": "stdout",
     "output_type": "stream",
     "text": [
      "Train on 18430 samples, validate on 6144 samples\n",
      "Epoch 1/50\n",
      "18430/18430 [==============================] - 21s 1ms/step - loss: 0.1774 - acc: 0.9440 - val_loss: 0.3706 - val_acc: 0.8939\n",
      "Epoch 2/50\n",
      "18430/18430 [==============================] - 21s 1ms/step - loss: 0.1321 - acc: 0.9577 - val_loss: 0.4163 - val_acc: 0.8896\n",
      "Epoch 3/50\n",
      "18430/18430 [==============================] - 21s 1ms/step - loss: 0.1031 - acc: 0.9685 - val_loss: 0.4326 - val_acc: 0.8953\n",
      "Epoch 4/50\n",
      "18430/18430 [==============================] - 21s 1ms/step - loss: 0.0836 - acc: 0.9743 - val_loss: 0.5029 - val_acc: 0.8854\n",
      "Epoch 5/50\n",
      "18430/18430 [==============================] - 21s 1ms/step - loss: 0.0761 - acc: 0.9770 - val_loss: 0.4899 - val_acc: 0.8952\n",
      "Epoch 6/50\n",
      "18430/18430 [==============================] - 21s 1ms/step - loss: 0.0689 - acc: 0.9781 - val_loss: 0.5507 - val_acc: 0.8877\n",
      "Epoch 7/50\n",
      "18430/18430 [==============================] - 21s 1ms/step - loss: 0.0610 - acc: 0.9816 - val_loss: 0.5646 - val_acc: 0.8888\n",
      "Epoch 8/50\n",
      "18430/18430 [==============================] - 21s 1ms/step - loss: 0.0573 - acc: 0.9825 - val_loss: 0.5452 - val_acc: 0.8921\n",
      "Epoch 9/50\n",
      "18430/18430 [==============================] - 21s 1ms/step - loss: 0.0529 - acc: 0.9836 - val_loss: 0.5753 - val_acc: 0.8937\n",
      "Epoch 10/50\n",
      "18430/18430 [==============================] - 21s 1ms/step - loss: 0.0468 - acc: 0.9854 - val_loss: 0.6220 - val_acc: 0.8908\n",
      "Epoch 11/50\n",
      "18430/18430 [==============================] - 21s 1ms/step - loss: 0.0454 - acc: 0.9860 - val_loss: 0.6401 - val_acc: 0.8867\n",
      "Epoch 12/50\n",
      "18430/18430 [==============================] - 21s 1ms/step - loss: 0.0418 - acc: 0.9875 - val_loss: 0.6237 - val_acc: 0.8900\n",
      "Epoch 13/50\n",
      "18430/18430 [==============================] - 21s 1ms/step - loss: 0.0416 - acc: 0.9875 - val_loss: 0.6357 - val_acc: 0.8923\n",
      "Epoch 14/50\n",
      "18430/18430 [==============================] - 21s 1ms/step - loss: 0.0411 - acc: 0.9875 - val_loss: 0.6523 - val_acc: 0.8927\n",
      "Epoch 15/50\n",
      "18430/18430 [==============================] - 21s 1ms/step - loss: 0.0401 - acc: 0.9880 - val_loss: 0.6587 - val_acc: 0.8918\n",
      "Epoch 16/50\n",
      "18430/18430 [==============================] - 21s 1ms/step - loss: 0.0381 - acc: 0.9884 - val_loss: 0.6981 - val_acc: 0.8864\n",
      "Epoch 17/50\n",
      "18430/18430 [==============================] - 21s 1ms/step - loss: 0.0343 - acc: 0.9898 - val_loss: 0.7187 - val_acc: 0.8879\n",
      "Epoch 18/50\n",
      "18430/18430 [==============================] - 21s 1ms/step - loss: 0.0339 - acc: 0.9898 - val_loss: 0.7030 - val_acc: 0.8919\n",
      "Epoch 19/50\n",
      "18430/18430 [==============================] - 21s 1ms/step - loss: 0.0330 - acc: 0.9901 - val_loss: 0.7285 - val_acc: 0.8898\n",
      "Epoch 20/50\n",
      "18430/18430 [==============================] - 21s 1ms/step - loss: 0.0335 - acc: 0.9897 - val_loss: 0.7117 - val_acc: 0.8900\n",
      "Epoch 21/50\n",
      "18430/18430 [==============================] - 21s 1ms/step - loss: 0.0365 - acc: 0.9888 - val_loss: 0.7169 - val_acc: 0.8874\n",
      "Epoch 22/50\n",
      "18430/18430 [==============================] - 21s 1ms/step - loss: 0.0348 - acc: 0.9897 - val_loss: 0.7329 - val_acc: 0.8903\n",
      "Epoch 23/50\n",
      "18430/18430 [==============================] - 21s 1ms/step - loss: 0.0333 - acc: 0.9897 - val_loss: 0.7441 - val_acc: 0.8867\n",
      "Epoch 24/50\n",
      "18430/18430 [==============================] - 21s 1ms/step - loss: 0.0338 - acc: 0.9899 - val_loss: 0.7585 - val_acc: 0.8892\n",
      "Epoch 25/50\n",
      "18430/18430 [==============================] - 21s 1ms/step - loss: 0.0353 - acc: 0.9890 - val_loss: 0.7705 - val_acc: 0.8864\n",
      "Epoch 26/50\n",
      "18430/18430 [==============================] - 21s 1ms/step - loss: 0.0338 - acc: 0.9893 - val_loss: 0.7347 - val_acc: 0.8903\n",
      "Epoch 27/50\n",
      "18430/18430 [==============================] - 21s 1ms/step - loss: 0.0334 - acc: 0.9897 - val_loss: 0.7751 - val_acc: 0.8888\n",
      "Epoch 28/50\n",
      "18430/18430 [==============================] - 21s 1ms/step - loss: 0.0318 - acc: 0.9903 - val_loss: 0.7536 - val_acc: 0.8911\n",
      "Epoch 29/50\n",
      "18430/18430 [==============================] - 21s 1ms/step - loss: 0.0297 - acc: 0.9909 - val_loss: 0.7816 - val_acc: 0.8926\n",
      "Epoch 30/50\n",
      "18430/18430 [==============================] - 21s 1ms/step - loss: 0.0290 - acc: 0.9909 - val_loss: 0.7696 - val_acc: 0.8923\n",
      "Epoch 31/50\n",
      "18430/18430 [==============================] - 21s 1ms/step - loss: 0.0291 - acc: 0.9910 - val_loss: 0.7766 - val_acc: 0.8919\n",
      "Epoch 32/50\n",
      "18430/18430 [==============================] - 21s 1ms/step - loss: 0.0307 - acc: 0.9906 - val_loss: 0.7796 - val_acc: 0.8901\n",
      "Epoch 33/50\n",
      "18430/18430 [==============================] - 21s 1ms/step - loss: 0.0305 - acc: 0.9907 - val_loss: 0.7968 - val_acc: 0.8885\n",
      "Epoch 34/50\n",
      "18430/18430 [==============================] - 21s 1ms/step - loss: 0.0305 - acc: 0.9903 - val_loss: 0.7994 - val_acc: 0.8870\n",
      "Epoch 35/50\n",
      "18430/18430 [==============================] - 21s 1ms/step - loss: 0.0290 - acc: 0.9912 - val_loss: 0.7931 - val_acc: 0.8892\n",
      "Epoch 36/50\n",
      "18430/18430 [==============================] - 21s 1ms/step - loss: 0.0294 - acc: 0.9910 - val_loss: 0.8015 - val_acc: 0.8896\n",
      "Epoch 37/50\n",
      "18430/18430 [==============================] - 21s 1ms/step - loss: 0.0289 - acc: 0.9909 - val_loss: 0.8025 - val_acc: 0.8874\n",
      "Epoch 38/50\n",
      "18430/18430 [==============================] - 21s 1ms/step - loss: 0.0280 - acc: 0.9913 - val_loss: 0.8016 - val_acc: 0.8890\n",
      "Epoch 39/50\n",
      "18430/18430 [==============================] - 21s 1ms/step - loss: 0.0293 - acc: 0.9905 - val_loss: 0.8042 - val_acc: 0.8877\n",
      "Epoch 40/50\n",
      "18430/18430 [==============================] - 21s 1ms/step - loss: 0.0323 - acc: 0.9902 - val_loss: 0.7442 - val_acc: 0.8896\n",
      "Epoch 41/50\n",
      "18430/18430 [==============================] - 21s 1ms/step - loss: 0.0302 - acc: 0.9903 - val_loss: 0.7921 - val_acc: 0.8890\n",
      "Epoch 42/50\n",
      "18430/18430 [==============================] - 21s 1ms/step - loss: 0.0295 - acc: 0.9907 - val_loss: 0.7913 - val_acc: 0.8916\n",
      "Epoch 43/50\n",
      "18430/18430 [==============================] - 21s 1ms/step - loss: 0.0274 - acc: 0.9914 - val_loss: 0.8098 - val_acc: 0.8906\n",
      "Epoch 44/50\n",
      "18430/18430 [==============================] - 20s 1ms/step - loss: 0.0279 - acc: 0.9910 - val_loss: 0.8213 - val_acc: 0.8896\n",
      "Epoch 45/50\n",
      "18430/18430 [==============================] - 20s 1ms/step - loss: 0.0280 - acc: 0.9908 - val_loss: 0.8362 - val_acc: 0.8916\n",
      "Epoch 46/50\n",
      "18430/18430 [==============================] - 20s 1ms/step - loss: 0.0276 - acc: 0.9909 - val_loss: 0.8318 - val_acc: 0.8896\n",
      "Epoch 47/50\n",
      "18430/18430 [==============================] - 20s 1ms/step - loss: 0.0281 - acc: 0.9910 - val_loss: 0.8397 - val_acc: 0.8861\n",
      "Epoch 48/50\n",
      "18430/18430 [==============================] - 20s 1ms/step - loss: 0.0279 - acc: 0.9913 - val_loss: 0.8325 - val_acc: 0.8908\n",
      "Epoch 49/50\n",
      "18430/18430 [==============================] - 20s 1ms/step - loss: 0.0284 - acc: 0.9909 - val_loss: 0.8403 - val_acc: 0.8880\n",
      "Epoch 50/50\n",
      "18430/18430 [==============================] - 20s 1ms/step - loss: 0.0284 - acc: 0.9909 - val_loss: 0.8249 - val_acc: 0.8929\n"
     ]
    }
   ],
   "source": [
    "hist = model.fit(X_train,y_train,epochs=50,batch_size=64,validation_data=(X_test,y_test))"
   ]
  },
  {
   "cell_type": "code",
   "execution_count": 140,
   "metadata": {},
   "outputs": [],
   "source": [
    "model.save(\"chatbot.model\")"
   ]
  },
  {
   "cell_type": "code",
   "execution_count": 157,
   "metadata": {},
   "outputs": [
    {
     "data": {
      "text/plain": [
       "array([[ 5.56584708e-02, -1.16541823e-02, -1.35325352e-02, ...,\n",
       "        -1.69606637e-02,  1.17424436e-01,  4.12696898e-02],\n",
       "       [-4.68317680e-02,  4.87484150e-02,  3.50844190e-02, ...,\n",
       "         1.74743265e-01,  1.85512096e-01,  1.81384925e-02],\n",
       "       [ 1.50536925e-01,  1.24545567e-01, -1.92968532e-01, ...,\n",
       "         1.01446800e-01,  6.89871609e-02,  3.61805484e-02],\n",
       "       ...,\n",
       "       [-2.26365086e-02, -4.15028445e-02, -4.75136042e-02, ...,\n",
       "         1.51324272e-03, -5.94594330e-03, -3.28309834e-05],\n",
       "       [ 1.50697716e-02, -3.14165838e-02,  2.25156434e-02, ...,\n",
       "        -4.83597890e-02, -3.89745720e-02,  6.17524236e-03],\n",
       "       [-1.97904706e-02, -7.45154545e-03,  2.06745379e-02, ...,\n",
       "         3.79477479e-02,  9.31967050e-04,  6.79695606e-03]], dtype=float32)"
      ]
     },
     "execution_count": 157,
     "metadata": {},
     "output_type": "execute_result"
    }
   ],
   "source": [
    "model.layers[0].get_weights()[0]"
   ]
  },
  {
   "cell_type": "code",
   "execution_count": 113,
   "metadata": {},
   "outputs": [],
   "source": [
    "good = model.predict_classes(X_train)"
   ]
  },
  {
   "cell_type": "code",
   "execution_count": 111,
   "metadata": {},
   "outputs": [
    {
     "data": {
      "text/plain": [
       "array(['기네스', '칼스버그', '코젤', '호가든', '버드와이저', '산미구엘', '삿포로', '아사히', '칭따오',\n",
       "       '카스', '필스너', '하이네켄', '하이트'], dtype=object)"
      ]
     },
     "execution_count": 111,
     "metadata": {},
     "output_type": "execute_result"
    }
   ],
   "source": [
    "print(good[1])\n",
    "\n",
    "print(X_train[1])\n",
    "\n",
    "print(pd.unique(le.inverse_transform(target_encoded)))"
   ]
  },
  {
   "cell_type": "code",
   "execution_count": 9,
   "metadata": {},
   "outputs": [],
   "source": [
    "'''\n",
    "vectorized = pd.read_csv(\"벡터화.csv\",engine=\"python\",encoding=\"cp949\")\n",
    "\n",
    "vectorized = vectorized.fillna(0)\n",
    "del vectorized[\"Unnamed: 0\"]\n",
    "\n",
    "vectorized = vectorized.values\n",
    "\n",
    "vectorized_target = pd.read_csv(\"타겟.csv\",engine=\"python\",encoding=\"cp949\")\n",
    "\n",
    "del vectorized_target[\"Unnamed: 0\"]\n",
    "\n",
    "target_encoded = vectorized_target.values\n",
    "'''"
   ]
  }
 ],
 "metadata": {
  "kernelspec": {
   "display_name": "tensor",
   "language": "python",
   "name": "tensorflow35"
  },
  "language_info": {
   "codemirror_mode": {
    "name": "ipython",
    "version": 3
   },
   "file_extension": ".py",
   "mimetype": "text/x-python",
   "name": "python",
   "nbconvert_exporter": "python",
   "pygments_lexer": "ipython3",
   "version": "3.5.5"
  }
 },
 "nbformat": 4,
 "nbformat_minor": 2
}

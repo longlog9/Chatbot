{
 "cells": [
  {
   "cell_type": "code",
   "execution_count": 164,
   "metadata": {},
   "outputs": [],
   "source": [
    "from selenium import webdriver\n",
    "from selenium.webdriver import ActionChains as AC\n",
    "from selenium.webdriver.common.keys import Keys\n",
    "\n",
    "from pandas import Series,DataFrame\n",
    "from bs4 import BeautifulSoup as bs\n",
    "import pandas as pd\n",
    "import numpy as np\n",
    "import random\n",
    "\n",
    "from time import sleep\n",
    "import re\n",
    "\n",
    "\n",
    "# In[135]:\n",
    "\n"
   ]
  },
  {
   "cell_type": "code",
   "execution_count": 198,
   "metadata": {},
   "outputs": [],
   "source": [
    "#로그인 부분\n",
    "def login_seq(ids,passwords):\n",
    "    try:\n",
    "        browser.get(\"https://www.instagram.com/accounts/login/?source=auth_switcher\")\n",
    "        login = browser.find_element_by_name(\"username\")\n",
    "        login.send_keys(ids)\n",
    "\n",
    "        password = browser.find_element_by_name(\"password\")\n",
    "        password.send_keys(passwords)\n",
    "\n",
    "        submit = browser.find_elements_by_xpath(\"//*[@id='react-root']/section/main/div/article/div/div[1]/div/form/div[3]/button\")\n",
    "\n",
    "        AC(browser).move_to_element(submit[0]).click().perform()\n",
    "    except:\n",
    "        pass\n",
    "\n",
    "\n",
    "# In[161]:\n",
    "\n",
    "\n",
    "#검색어 입력\n",
    "def search(keyword):\n",
    "\n",
    "    browser.get(\"https://www.instagram.com/\")\n",
    "    search = browser.find_elements_by_xpath(\"//*[@id='react-root']/section/nav/div[2]/div/div/div[2]/input\")\n",
    "    sleep(1)\n",
    "    search[0].send_keys(keyword)\n",
    "    button = browser.find_elements_by_xpath(\"//*[@id='react-root']/section/nav/div[2]/div/div/div[2]/span\")\n",
    "    AC(browser).move_to_element(button[0]).click().perform()\n",
    "    sleep(2)\n",
    "    for i in browser.find_elements_by_tag_name(\"span\"):\n",
    "        if i.text == \"#\"+str(keyword):\n",
    "            print(\"true\")\n",
    "            AC(browser).move_to_element(i).click().perform()\n",
    "            break\n",
    "        else : pass\n",
    "\n",
    "\n",
    "# In[401]:\n",
    "\n",
    "\n",
    "#블록 등 비정상상황 발생시 해당 게시물 위치부터 다시 시작\n",
    "\n",
    "def fail_return(current):\n",
    "    try:\n",
    "        for ax in browser.find_elements_by_tag_name(\"a\"):\n",
    "            if ax.find_element_by_xpath(\"..\").find_element_by_xpath(\"..\").find_element_by_xpath(\"..\").find_element_by_xpath(\"..\").find_element_by_xpath(\"..\").tag_name == \"article\":\n",
    "                tests = ax.get_attribute(\"href\").split(\"/\")[4]\n",
    "                if current == tests:\n",
    "                    AC(browser).move_to_element(ax).click().perform()\n",
    "    except: pass\n",
    "\n",
    "\n",
    "\n",
    "# In[500]:\n",
    "\n",
    "\n",
    "#엔진 속 엔진. 실제 데이터들을 스크래핑하여 datus 변수로 이를 반환(return)함\n",
    "\n",
    "def engine_engine(current):\n",
    "    datus = list()\n",
    "    log = list()\n",
    "    fail_return(current)\n",
    "    log.append(\"소생 페이즈 성공\")\n",
    "    \n",
    "    for i in range(0,23):\n",
    "        if i <= 12:\n",
    "            log.append(\"start,\"+str(i))\n",
    "            j = len(browser.find_elements_by_xpath(\"/html/body/div[3]/div/div[1]/div/div/a\"))\n",
    "            for k in browser.find_elements_by_xpath(\"/html/body/div[3]/div/div[1]/div/div/a\"):\n",
    "\n",
    "                #만일 이전, 다음 버튼 두개가 존재하는 경우\n",
    "                if j == 2:\n",
    "                    if k.text == \"다음\" :\n",
    "                        sleep(1)\n",
    "                        ab = browser.find_element_by_xpath(\"/html/body/div[3]/div/div[2]/div/article/div[2]/div[1]/ul/li[1]/div/div/div/span\")\n",
    "                        datus.append(ab.text.replace(\"\\n\",\"\").replace(\"#\",\" \"))\n",
    "                        AC(browser).move_to_element(k).click().perform()\n",
    "                        current = browser.current_url.split(\"/\")[4]\n",
    "                    \n",
    "                #만일 이전, 다음 버튼 중 하나만 존재하는 경우\n",
    "                if j == 1:\n",
    "                    #다음 버튼만 존재하는 경우 : 첫 페이지를 의미\n",
    "                    if k.text == \"다음\":\n",
    "                        sleep(1)\n",
    "                        ab = browser.find_element_by_xpath(\"/html/body/div[3]/div/div[2]/div/article/div[2]/div[1]/ul/li[1]/div/div/div/span\")\n",
    "                        datus.append(ab.text.replace(\"\\n\",\"\").replace(\"#\",\" \"))\n",
    "                        AC(browser).move_to_element(k).click().perform()\n",
    "                        current = browser.current_url.split(\"/\")[4]\n",
    "                    \n",
    "                    #이전 버튼만 존재하는 경우 : 마지막 페이지를 의미\n",
    "                    else :\n",
    "                        sleep(1)\n",
    "                        ab = browser.find_element_by_xpath(\"/html/body/div[3]/div/div[2]/div/article/div[2]/div[1]/ul/li[1]/div/div/div/span\")\n",
    "                        datus.append(ab.text.replace(\"\\n\",\"\").replace(\"#\",\" \"))\n",
    "                        exit = browser.find_element_by_xpath(\"/html/body/div[3]/div/button\")\n",
    "                        AC(browser).move_to_element(exit).click().perform()\n",
    "                        current = browser.current_url.split(\"/\")[4]\n",
    "        if i >= 12: \n",
    "            log.append(\"end,\"+str(i))\n",
    "            log.append(\"종료 페이즈 시작\")\n",
    "            exit = browser.find_element_by_xpath(\"/html/body/div[3]/div/button\")\n",
    "            AC(browser).move_to_element(exit).click().perform()\n",
    "            AC(browser).send_keys(Keys.PAGE_DOWN).perform()\n",
    "            return (datus,current,log)\n",
    "\n",
    "\n",
    "# In[535]:\n",
    "\n",
    "\n",
    "#엔진. 정상 진행과 예외 진행을 구분하여 예외 발생 시 이를 핸들링해준다.\n",
    "\n",
    "def engine(firstpage,lastpage,current):\n",
    "    datalist = []\n",
    "    kill_switch = 0\n",
    "    log = list()\n",
    "    \n",
    "    while firstpage <= lastpage:\n",
    "        sleep(random.randint(0,1))\n",
    "        #kill_switch = 0, 즉 예외가 발생했던 적이 없는 경우\n",
    "        if kill_switch == 0:\n",
    "            try : \n",
    "                aa,current,log = engine_engine(current)\n",
    "                datalist.append(aa)\n",
    "                log += log\n",
    "                firstpage += 1\n",
    "            #예외가 발생하면 일단 창의 X버튼을 누르고, kill_switch를 1로 켠다. \n",
    "            except :\n",
    "                try:\n",
    "                    exit = browser.find_element_by_xpath(\"/html/body/div[3]/div/button\")\n",
    "                    AC(browser).move_to_element(exit).click().perform()\n",
    "                except : pass\n",
    "                kill_switch = 1\n",
    "                log.append(\"킬 스위치 켜짐\")\n",
    "                sleep(1)\n",
    "        #kill_switch = 1, 즉 예외가 발생했던 경우\n",
    "        if kill_switch == 1:\n",
    "            #fail_return으로 마지막 위치에서 다시 시작한다.\n",
    "            try:\n",
    "                aa,current,log = engine_engine(current)\n",
    "                datalist.append(aa)\n",
    "                log += log\n",
    "\n",
    "                #예외 처리 후 kill_switch를 0으로 다시 끈다.\n",
    "                kill_switch = 0\n",
    "                log.append(\"킬 스위치 꺼짐\")\n",
    "                firstpage += 1\n",
    "            except:\n",
    "                exit = browser.find_element_by_xpath(\"/html/body/div[3]/div/button\")\n",
    "                AC(browser).move_to_element(exit).click().perform()\n",
    "                sleep(1)\n",
    "    return (datalist,current,log)\n",
    "\n",
    "\n",
    "# In[498]:\n",
    "\n",
    "\n",
    "#껍데기(미사용)\n",
    "\n",
    "def main(ids,passwords,keyword,lastpage):\n",
    "    datum = list()\n",
    "    \n",
    "    login_seq(ids,passwords)\n",
    "    sleep(1)\n",
    "    \n",
    "    search(keyword)\n",
    "    sleep(7)\n",
    "    \n",
    "    cont = browser.find_element_by_xpath(\"//*[@id='react-root']/section/main/article/div[2]/div/div[1]/div[1]/a\")\n",
    "    current = cont.get_attribute(\"href\").split(\"/\")[4]\n",
    "    \n",
    "    datum.append(engine(lastpage,current))\n",
    "    return datum\n",
    "    \n",
    "\n",
    "\n"
   ]
  },
  {
   "cell_type": "code",
   "execution_count": 199,
   "metadata": {},
   "outputs": [],
   "source": [
    "browser = webdriver.Chrome(\"chromedriver.exe\")"
   ]
  },
  {
   "cell_type": "code",
   "execution_count": 200,
   "metadata": {
    "scrolled": true
   },
   "outputs": [
    {
     "ename": "IndexError",
     "evalue": "list index out of range",
     "output_type": "error",
     "traceback": [
      "\u001b[1;31m---------------------------------------------------------------------------\u001b[0m",
      "\u001b[1;31mIndexError\u001b[0m                                Traceback (most recent call last)",
      "\u001b[1;32m<ipython-input-200-e486ff8f592b>\u001b[0m in \u001b[0;36m<module>\u001b[1;34m()\u001b[0m\n\u001b[0;32m      8\u001b[0m \u001b[0msleep\u001b[0m\u001b[1;33m(\u001b[0m\u001b[1;36m1\u001b[0m\u001b[1;33m)\u001b[0m\u001b[1;33m\u001b[0m\u001b[0m\n\u001b[0;32m      9\u001b[0m \u001b[1;33m\u001b[0m\u001b[0m\n\u001b[1;32m---> 10\u001b[1;33m \u001b[0msearch\u001b[0m\u001b[1;33m(\u001b[0m\u001b[1;34m\"하이네켄\"\u001b[0m\u001b[1;33m)\u001b[0m\u001b[1;33m\u001b[0m\u001b[0m\n\u001b[0m\u001b[0;32m     11\u001b[0m \u001b[0msleep\u001b[0m\u001b[1;33m(\u001b[0m\u001b[1;36m3\u001b[0m\u001b[1;33m)\u001b[0m\u001b[1;33m\u001b[0m\u001b[0m\n\u001b[0;32m     12\u001b[0m \u001b[1;33m\u001b[0m\u001b[0m\n",
      "\u001b[1;32m<ipython-input-198-815924597176>\u001b[0m in \u001b[0;36msearch\u001b[1;34m(keyword)\u001b[0m\n\u001b[0;32m     25\u001b[0m     \u001b[0msearch\u001b[0m \u001b[1;33m=\u001b[0m \u001b[0mbrowser\u001b[0m\u001b[1;33m.\u001b[0m\u001b[0mfind_elements_by_xpath\u001b[0m\u001b[1;33m(\u001b[0m\u001b[1;34m\"//*[@id='react-root']/section/nav/div[2]/div/div/div[2]/input\"\u001b[0m\u001b[1;33m)\u001b[0m\u001b[1;33m\u001b[0m\u001b[0m\n\u001b[0;32m     26\u001b[0m     \u001b[0msleep\u001b[0m\u001b[1;33m(\u001b[0m\u001b[1;36m1\u001b[0m\u001b[1;33m)\u001b[0m\u001b[1;33m\u001b[0m\u001b[0m\n\u001b[1;32m---> 27\u001b[1;33m     \u001b[0msearch\u001b[0m\u001b[1;33m[\u001b[0m\u001b[1;36m0\u001b[0m\u001b[1;33m]\u001b[0m\u001b[1;33m.\u001b[0m\u001b[0msend_keys\u001b[0m\u001b[1;33m(\u001b[0m\u001b[0mkeyword\u001b[0m\u001b[1;33m)\u001b[0m\u001b[1;33m\u001b[0m\u001b[0m\n\u001b[0m\u001b[0;32m     28\u001b[0m     \u001b[0mbutton\u001b[0m \u001b[1;33m=\u001b[0m \u001b[0mbrowser\u001b[0m\u001b[1;33m.\u001b[0m\u001b[0mfind_elements_by_xpath\u001b[0m\u001b[1;33m(\u001b[0m\u001b[1;34m\"//*[@id='react-root']/section/nav/div[2]/div/div/div[2]/span\"\u001b[0m\u001b[1;33m)\u001b[0m\u001b[1;33m\u001b[0m\u001b[0m\n\u001b[0;32m     29\u001b[0m     \u001b[0mAC\u001b[0m\u001b[1;33m(\u001b[0m\u001b[0mbrowser\u001b[0m\u001b[1;33m)\u001b[0m\u001b[1;33m.\u001b[0m\u001b[0mmove_to_element\u001b[0m\u001b[1;33m(\u001b[0m\u001b[0mbutton\u001b[0m\u001b[1;33m[\u001b[0m\u001b[1;36m0\u001b[0m\u001b[1;33m]\u001b[0m\u001b[1;33m)\u001b[0m\u001b[1;33m.\u001b[0m\u001b[0mclick\u001b[0m\u001b[1;33m(\u001b[0m\u001b[1;33m)\u001b[0m\u001b[1;33m.\u001b[0m\u001b[0mperform\u001b[0m\u001b[1;33m(\u001b[0m\u001b[1;33m)\u001b[0m\u001b[1;33m\u001b[0m\u001b[0m\n",
      "\u001b[1;31mIndexError\u001b[0m: list index out of range"
     ]
    }
   ],
   "source": [
    "# In[541]:\n",
    "\n",
    "\n",
    "datum = list()\n",
    "logfile = DataFrame()\n",
    "\n",
    "login_seq(\"neverland251@gmail.com\",\"cjswp12358\")\n",
    "sleep(1)\n",
    "\n",
    "search(\"하이네켄\")\n",
    "sleep(3)\n",
    "\n",
    "cont = browser.find_element_by_xpath(\"//*[@id='react-root']/section/main/article/div[2]/div/div[1]/div[1]/a\")\n",
    "current = cont.get_attribute(\"href\").split(\"/\")[4]\n",
    "fail_return(current)\n",
    "\n",
    "for i in range(0,7600):\n",
    "    aaa,current,log = engine(1,3,current)    \n",
    "    datum.append(aaa)\n",
    "    log += log\n",
    "    logfile = pd.concat([logfile,DataFrame(log)])\n",
    "\n",
    "logfile.reset_index()\n",
    "logfile.to_csv(\"log.csv\")"
   ]
  },
  {
   "cell_type": "code",
   "execution_count": 194,
   "metadata": {},
   "outputs": [
    {
     "data": {
      "text/plain": [
       "' 두번째술집기가막힌 막걸리를 먹고싶다면?우리 9시에 만나요!!늦지마요~—————————————————- 5주년 &  송년회안녕하세요.성인들의 건강한 운동놀이터 K 헤드코치 김동석 입니다.수없이 많은 좋은 분들과 소통하고 지낼수 있었던 5년 이었습니다. 너무너무 행복했습니다.진심으로 고개숙여 감사인사 드립니다.저희 케이는 앞으로도 운동이라는 매개체로 여러분들에게 한걸음 더 다가갈수 있도록 노력하겠습니다.바쁘신 와중에도 가벼운 발걸음 해주셨음 합니다. 두손은 무겁게ㅋ오늘 늦은 9시부터 행사가 시작될 예정이오니 늦어도 10분전에는 입장 부탁드립니다.감사합니다.동코, 여코, 장코, 준코 올림 두번째술집  퍼니비어  청춘횟집  쇼간지  별박스  와와돈까스  무브먼트  락테이프  와드프렌즈  하이네켄  칠번가피자——————————————————🔥 8주 서바이벌 지독한 다이어트 18기 종료 🏋️\\u200d♂️🔥 코치진 @bityeoul @jey_hong @charles.y.jun🔥 남녀노소 누구나 쉽게 할수 있는 운동 🏋🏻\\u200d♂️🔥 운동은 기본! 웃음치료도 가능해요👍🔥 시작이 반이다. 우선 시작해 보세요! 저희가 있잖아요^^ ——————————————————🔥 1일 무료 체험 / 문의 > DM / 카톡🔥 상담문의 : 070-7694-0012🔥 네이버카페 : 크로스핏케이🔥 위치 : 경성대/부경대역 5번 출구 1분거리——————————————————🔥 학생/경찰/군인/소방 상시할인🔥 공무원체력,체대준비생,속성다이어트🔥 선수트레이닝, 근골격계 질환 개선'"
      ]
     },
     "execution_count": 194,
     "metadata": {},
     "output_type": "execute_result"
    }
   ],
   "source": [
    "datum[8][0][11]"
   ]
  },
  {
   "cell_type": "code",
   "execution_count": 307,
   "metadata": {},
   "outputs": [],
   "source": [
    "data = []\n",
    "datat = list()"
   ]
  },
  {
   "cell_type": "code",
   "execution_count": 339,
   "metadata": {},
   "outputs": [],
   "source": [
    "def datatest():\n",
    "    data = list()\n",
    "    data.append(\"aa\")\n",
    "    return data"
   ]
  },
  {
   "cell_type": "code",
   "execution_count": 352,
   "metadata": {},
   "outputs": [],
   "source": [
    "def datatest2(data):\n",
    "    datum = list()\n",
    "    datum.append(data)\n",
    "    return datum"
   ]
  },
  {
   "cell_type": "code",
   "execution_count": 361,
   "metadata": {},
   "outputs": [],
   "source": [
    "datalist = datatest2(data)"
   ]
  },
  {
   "cell_type": "code",
   "execution_count": 363,
   "metadata": {},
   "outputs": [
    {
     "data": {
      "text/plain": [
       "['aa']"
      ]
     },
     "execution_count": 363,
     "metadata": {},
     "output_type": "execute_result"
    }
   ],
   "source": [
    "datalist[0]"
   ]
  },
  {
   "cell_type": "code",
   "execution_count": 94,
   "metadata": {},
   "outputs": [],
   "source": [
    "data = pd.read_csv(\"test.csv\")"
   ]
  },
  {
   "cell_type": "code",
   "execution_count": 163,
   "metadata": {},
   "outputs": [
    {
     "data": {
      "text/plain": [
       "13"
      ]
     },
     "execution_count": 163,
     "metadata": {},
     "output_type": "execute_result"
    }
   ],
   "source": [
    "len(data.loc[2][3].split(\",\"))"
   ]
  },
  {
   "cell_type": "code",
   "execution_count": 365,
   "metadata": {},
   "outputs": [
    {
     "data": {
      "text/plain": [
       "[]"
      ]
     },
     "execution_count": 365,
     "metadata": {},
     "output_type": "execute_result"
    }
   ],
   "source": [
    "datum"
   ]
  }
 ],
 "metadata": {
  "kernelspec": {
   "display_name": "tensor",
   "language": "python",
   "name": "tensorflow35"
  },
  "language_info": {
   "codemirror_mode": {
    "name": "ipython",
    "version": 3
   },
   "file_extension": ".py",
   "mimetype": "text/x-python",
   "name": "python",
   "nbconvert_exporter": "python",
   "pygments_lexer": "ipython3",
   "version": "3.5.5"
  }
 },
 "nbformat": 4,
 "nbformat_minor": 2
}

{
 "cells": [
  {
   "cell_type": "code",
   "execution_count": 1,
   "metadata": {},
   "outputs": [],
   "source": [
    "from selenium import webdriver\n",
    "from selenium.webdriver import ActionChains as AC\n",
    "\n",
    "from pandas import Series,DataFrame\n",
    "from bs4 import BeautifulSoup as bs\n",
    "import pandas as pd\n",
    "import numpy as np\n",
    "import urllib.request as request\n",
    "import requests\n",
    "from time import sleep\n"
   ]
  },
  {
   "cell_type": "code",
   "execution_count": 4,
   "metadata": {},
   "outputs": [],
   "source": [
    "def engine():\n",
    "    CSS_review=\"div.review-container\"\n",
    "    reviews = browser.find_elements_by_css_selector(CSS_review)\n",
    "    for review in reviews:\n",
    "        try:\n",
    "            overlay = \"span.ui_overlay.ui_modal\"\n",
    "            overlays = \"div.entry\"\n",
    "            exit = \"div.ui_close_x\"\n",
    "            CSS_tran=\"span.ui_button.secondary.small\"\n",
    "            tran_button = review.find_element_by_css_selector(CSS_tran)\n",
    "            AC(browser).move_to_element(tran_button).click().perform()\n",
    "            sleep(3)\n",
    "            html = browser.find_element_by_css_selector(overlay)\n",
    "            datum = html.find_element_by_css_selector(overlays)\n",
    "            datalist.append(datum.text)\n",
    "            sleep(2)\n",
    "            print(\"append complete\")\n",
    "            exit_button = html.find_element_by_css_selector(exit)\n",
    "            AC(browser).move_to_element(exit_button).click().perform()\n",
    "            sleep(0.5)\n",
    "        except : pass\n",
    "        '''\n",
    "        except :\n",
    "            test = \"div.entry\"\n",
    "            auto = \"label.label\"\n",
    "            autobutton = \"input.submitOnClick\"\n",
    "            tran_auto = browser.find_element_by_css_selector(auto)\n",
    "            if tran_auto.text == \"네\" :\n",
    "                print(\"true1\")\n",
    "                auto_button = tran_auto.find_element_by_css_selector(autobutton)\n",
    "                AC(browser).move_to_element(auto_button).click().perform()\n",
    "                sleep(2)\n",
    "                datum = review.find_element_by_css_selector(test)\n",
    "                datalist.append(datum.text)\n",
    "            else : continue\n",
    "        '''"
   ]
  },
  {
   "cell_type": "code",
   "execution_count": 5,
   "metadata": {},
   "outputs": [
    {
     "name": "stdout",
     "output_type": "stream",
     "text": [
      "append complete\n",
      "append complete\n",
      "append complete\n",
      "append complete\n",
      "append complete\n",
      "append complete\n",
      "append complete\n",
      "append complete\n",
      "append complete\n",
      "append complete\n",
      "append complete\n"
     ]
    },
    {
     "ename": "WebDriverException",
     "evalue": "Message: chrome not reachable\n  (Session info: chrome=70.0.3538.77)\n  (Driver info: chromedriver=2.41.578737 (49da6702b16031c40d63e5618de03a32ff6c197e),platform=Windows NT 10.0.17134 x86_64)\n",
     "output_type": "error",
     "traceback": [
      "\u001b[1;31m---------------------------------------------------------------------------\u001b[0m",
      "\u001b[1;31mWebDriverException\u001b[0m                        Traceback (most recent call last)",
      "\u001b[1;32m<ipython-input-5-6681c865b12b>\u001b[0m in \u001b[0;36m<module>\u001b[1;34m()\u001b[0m\n\u001b[0;32m     14\u001b[0m     \u001b[1;32mif\u001b[0m \u001b[0mcount\u001b[0m \u001b[1;33m==\u001b[0m \u001b[1;36m0\u001b[0m\u001b[1;33m:\u001b[0m\u001b[1;33m\u001b[0m\u001b[0m\n\u001b[0;32m     15\u001b[0m         \u001b[0murl\u001b[0m \u001b[1;33m=\u001b[0m \u001b[1;34m\"https://www.tripadvisor.co.kr/Attraction_Review-g294197-d1379963-Reviews-Bukchon_Hanok_Village-Seoul.html#REVIEWS\"\u001b[0m\u001b[1;33m.\u001b[0m\u001b[0mformat\u001b[0m\u001b[1;33m(\u001b[0m\u001b[0mcount\u001b[0m\u001b[1;33m)\u001b[0m\u001b[1;33m\u001b[0m\u001b[0m\n\u001b[1;32m---> 16\u001b[1;33m         \u001b[0mhtml\u001b[0m \u001b[1;33m=\u001b[0m \u001b[0mbrowser\u001b[0m\u001b[1;33m.\u001b[0m\u001b[0mget\u001b[0m\u001b[1;33m(\u001b[0m\u001b[0murl\u001b[0m\u001b[1;33m)\u001b[0m\u001b[1;33m\u001b[0m\u001b[0m\n\u001b[0m\u001b[0;32m     17\u001b[0m         \u001b[0msleep\u001b[0m\u001b[1;33m(\u001b[0m\u001b[1;36m7\u001b[0m\u001b[1;33m)\u001b[0m\u001b[1;33m\u001b[0m\u001b[0m\n\u001b[0;32m     18\u001b[0m         \u001b[0mengine\u001b[0m\u001b[1;33m(\u001b[0m\u001b[1;33m)\u001b[0m\u001b[1;33m\u001b[0m\u001b[0m\n",
      "\u001b[1;32mc:\\users\\never\\appdata\\local\\programs\\python\\python36-32\\lib\\site-packages\\selenium\\webdriver\\remote\\webdriver.py\u001b[0m in \u001b[0;36mget\u001b[1;34m(self, url)\u001b[0m\n\u001b[0;32m    330\u001b[0m         \u001b[0mLoads\u001b[0m \u001b[0ma\u001b[0m \u001b[0mweb\u001b[0m \u001b[0mpage\u001b[0m \u001b[1;32min\u001b[0m \u001b[0mthe\u001b[0m \u001b[0mcurrent\u001b[0m \u001b[0mbrowser\u001b[0m \u001b[0msession\u001b[0m\u001b[1;33m.\u001b[0m\u001b[1;33m\u001b[0m\u001b[0m\n\u001b[0;32m    331\u001b[0m         \"\"\"\n\u001b[1;32m--> 332\u001b[1;33m         \u001b[0mself\u001b[0m\u001b[1;33m.\u001b[0m\u001b[0mexecute\u001b[0m\u001b[1;33m(\u001b[0m\u001b[0mCommand\u001b[0m\u001b[1;33m.\u001b[0m\u001b[0mGET\u001b[0m\u001b[1;33m,\u001b[0m \u001b[1;33m{\u001b[0m\u001b[1;34m'url'\u001b[0m\u001b[1;33m:\u001b[0m \u001b[0murl\u001b[0m\u001b[1;33m}\u001b[0m\u001b[1;33m)\u001b[0m\u001b[1;33m\u001b[0m\u001b[0m\n\u001b[0m\u001b[0;32m    333\u001b[0m \u001b[1;33m\u001b[0m\u001b[0m\n\u001b[0;32m    334\u001b[0m     \u001b[1;33m@\u001b[0m\u001b[0mproperty\u001b[0m\u001b[1;33m\u001b[0m\u001b[0m\n",
      "\u001b[1;32mc:\\users\\never\\appdata\\local\\programs\\python\\python36-32\\lib\\site-packages\\selenium\\webdriver\\remote\\webdriver.py\u001b[0m in \u001b[0;36mexecute\u001b[1;34m(self, driver_command, params)\u001b[0m\n\u001b[0;32m    318\u001b[0m         \u001b[0mresponse\u001b[0m \u001b[1;33m=\u001b[0m \u001b[0mself\u001b[0m\u001b[1;33m.\u001b[0m\u001b[0mcommand_executor\u001b[0m\u001b[1;33m.\u001b[0m\u001b[0mexecute\u001b[0m\u001b[1;33m(\u001b[0m\u001b[0mdriver_command\u001b[0m\u001b[1;33m,\u001b[0m \u001b[0mparams\u001b[0m\u001b[1;33m)\u001b[0m\u001b[1;33m\u001b[0m\u001b[0m\n\u001b[0;32m    319\u001b[0m         \u001b[1;32mif\u001b[0m \u001b[0mresponse\u001b[0m\u001b[1;33m:\u001b[0m\u001b[1;33m\u001b[0m\u001b[0m\n\u001b[1;32m--> 320\u001b[1;33m             \u001b[0mself\u001b[0m\u001b[1;33m.\u001b[0m\u001b[0merror_handler\u001b[0m\u001b[1;33m.\u001b[0m\u001b[0mcheck_response\u001b[0m\u001b[1;33m(\u001b[0m\u001b[0mresponse\u001b[0m\u001b[1;33m)\u001b[0m\u001b[1;33m\u001b[0m\u001b[0m\n\u001b[0m\u001b[0;32m    321\u001b[0m             response['value'] = self._unwrap_value(\n\u001b[0;32m    322\u001b[0m                 response.get('value', None))\n",
      "\u001b[1;32mc:\\users\\never\\appdata\\local\\programs\\python\\python36-32\\lib\\site-packages\\selenium\\webdriver\\remote\\errorhandler.py\u001b[0m in \u001b[0;36mcheck_response\u001b[1;34m(self, response)\u001b[0m\n\u001b[0;32m    240\u001b[0m                 \u001b[0malert_text\u001b[0m \u001b[1;33m=\u001b[0m \u001b[0mvalue\u001b[0m\u001b[1;33m[\u001b[0m\u001b[1;34m'alert'\u001b[0m\u001b[1;33m]\u001b[0m\u001b[1;33m.\u001b[0m\u001b[0mget\u001b[0m\u001b[1;33m(\u001b[0m\u001b[1;34m'text'\u001b[0m\u001b[1;33m)\u001b[0m\u001b[1;33m\u001b[0m\u001b[0m\n\u001b[0;32m    241\u001b[0m             \u001b[1;32mraise\u001b[0m \u001b[0mexception_class\u001b[0m\u001b[1;33m(\u001b[0m\u001b[0mmessage\u001b[0m\u001b[1;33m,\u001b[0m \u001b[0mscreen\u001b[0m\u001b[1;33m,\u001b[0m \u001b[0mstacktrace\u001b[0m\u001b[1;33m,\u001b[0m \u001b[0malert_text\u001b[0m\u001b[1;33m)\u001b[0m\u001b[1;33m\u001b[0m\u001b[0m\n\u001b[1;32m--> 242\u001b[1;33m         \u001b[1;32mraise\u001b[0m \u001b[0mexception_class\u001b[0m\u001b[1;33m(\u001b[0m\u001b[0mmessage\u001b[0m\u001b[1;33m,\u001b[0m \u001b[0mscreen\u001b[0m\u001b[1;33m,\u001b[0m \u001b[0mstacktrace\u001b[0m\u001b[1;33m)\u001b[0m\u001b[1;33m\u001b[0m\u001b[0m\n\u001b[0m\u001b[0;32m    243\u001b[0m \u001b[1;33m\u001b[0m\u001b[0m\n\u001b[0;32m    244\u001b[0m     \u001b[1;32mdef\u001b[0m \u001b[0m_value_or_default\u001b[0m\u001b[1;33m(\u001b[0m\u001b[0mself\u001b[0m\u001b[1;33m,\u001b[0m \u001b[0mobj\u001b[0m\u001b[1;33m,\u001b[0m \u001b[0mkey\u001b[0m\u001b[1;33m,\u001b[0m \u001b[0mdefault\u001b[0m\u001b[1;33m)\u001b[0m\u001b[1;33m:\u001b[0m\u001b[1;33m\u001b[0m\u001b[0m\n",
      "\u001b[1;31mWebDriverException\u001b[0m: Message: chrome not reachable\n  (Session info: chrome=70.0.3538.77)\n  (Driver info: chromedriver=2.41.578737 (49da6702b16031c40d63e5618de03a32ff6c197e),platform=Windows NT 10.0.17134 x86_64)\n"
     ]
    }
   ],
   "source": [
    "#국적자동지정. 아직 테스트\n",
    "browser = webdriver.Chrome(\"chromedriver.exe\")\n",
    "\n",
    "datalist = []\n",
    "count = 0\n",
    "currentpage = 0\n",
    "lastpage = 9999\n",
    "endswitch = []\n",
    "\n",
    "while  count <= lastpage:\n",
    "\n",
    "    CSS_more=\"span.taLnk.ulBlueLinks\" #해당 버튼의 위치 값을 삽입\n",
    " \n",
    "    if count == 0:\n",
    "        url = \"https://www.tripadvisor.co.kr/Attraction_Review-g294197-d1379963-Reviews-Bukchon_Hanok_Village-Seoul.html#REVIEWS\".format(count)\n",
    "        html = browser.get(url)\n",
    "        sleep(7)\n",
    "        engine()\n",
    "        \n",
    "    if count != 0:\n",
    "        url = \"https://www.tripadvisor.co.kr/Attraction_Review-g294197-d1379963-Reviews-or{0}-Bukchon_Hanok_Village-Seoul.html#REVIEWS\".format(count)\n",
    "        html = browser.get(url)\n",
    "        sleep(1)\n",
    "        engine()\n",
    "    \n",
    "    try :\n",
    "        pagenum = \"a.pageNum.last.current \"\n",
    "        endswitch.append(browser.find_element_by_css_selector(pagenum))\n",
    "    except : continue\n",
    "    else : break\n",
    "        \n",
    "        \n"
   ]
  },
  {
   "cell_type": "code",
   "execution_count": 18,
   "metadata": {},
   "outputs": [
    {
     "data": {
      "text/plain": [
       "874"
      ]
     },
     "execution_count": 18,
     "metadata": {},
     "output_type": "execute_result"
    }
   ],
   "source": [
    "len(datalist)"
   ]
  },
  {
   "cell_type": "code",
   "execution_count": 19,
   "metadata": {},
   "outputs": [],
   "source": [
    "data = DataFrame(datalist)\n",
    "data.to_csv(\"트립어드바이저(1).csv\",encoding=\"UTF-8\")"
   ]
  },
  {
   "cell_type": "code",
   "execution_count": 3,
   "metadata": {},
   "outputs": [
    {
     "ename": "NameError",
     "evalue": "name 'browser' is not defined",
     "output_type": "error",
     "traceback": [
      "\u001b[1;31m---------------------------------------------------------------------------\u001b[0m",
      "\u001b[1;31mNameError\u001b[0m                                 Traceback (most recent call last)",
      "\u001b[1;32m<ipython-input-3-75026c39b247>\u001b[0m in \u001b[0;36m<module>\u001b[1;34m()\u001b[0m\n\u001b[0;32m      3\u001b[0m \u001b[0mautobutton\u001b[0m \u001b[1;33m=\u001b[0m \u001b[1;34m\"input.submitOnClick\"\u001b[0m\u001b[1;33m\u001b[0m\u001b[0m\n\u001b[0;32m      4\u001b[0m \u001b[0mtest\u001b[0m \u001b[1;33m=\u001b[0m \u001b[1;34m\"div.entry\"\u001b[0m\u001b[1;33m\u001b[0m\u001b[0m\n\u001b[1;32m----> 5\u001b[1;33m \u001b[0mtran_auto\u001b[0m \u001b[1;33m=\u001b[0m \u001b[0mbrowser\u001b[0m\u001b[1;33m.\u001b[0m\u001b[0mfind_element_by_css_selector\u001b[0m\u001b[1;33m(\u001b[0m\u001b[0mauto\u001b[0m\u001b[1;33m)\u001b[0m\u001b[1;33m\u001b[0m\u001b[0m\n\u001b[0m\u001b[0;32m      6\u001b[0m \u001b[1;32mif\u001b[0m \u001b[0mtran_auto\u001b[0m\u001b[1;33m.\u001b[0m\u001b[0mtext\u001b[0m \u001b[1;33m==\u001b[0m \u001b[1;34m\"네\"\u001b[0m \u001b[1;33m:\u001b[0m\u001b[1;33m\u001b[0m\u001b[0m\n\u001b[0;32m      7\u001b[0m     \u001b[0mprint\u001b[0m\u001b[1;33m(\u001b[0m\u001b[1;34m\"true1\"\u001b[0m\u001b[1;33m)\u001b[0m\u001b[1;33m\u001b[0m\u001b[0m\n",
      "\u001b[1;31mNameError\u001b[0m: name 'browser' is not defined"
     ]
    }
   ],
   "source": [
    "#<구글번역기> 부분이 아닌 <자동번역기> 부분만 따로 떼서 테,스트\n",
    "auto = \"label.label\"\n",
    "autobutton = \"input.submitOnClick\"\n",
    "test = \"div.entry\"\n",
    "tran_auto = browser.find_element_by_css_selector(auto)\n",
    "if tran_auto.text == \"네\" :\n",
    "    print(\"true1\")\n",
    "    auto_button = tran_auto.find_element_by_css_selector(autobutton)\n",
    "    AC(browser).move_to_element(auto_button).click().perform()\n",
    "    sleep(0.5)\n",
    "    CSS_review=\"div.review\"\n",
    "    reviews = browser.find_elements_by_css_selector(CSS_review)\n",
    "    for i in reviews:\n",
    "        datum = i.find_element_by_css_selector(test)\n",
    "        datalist.append(datum.text)"
   ]
  },
  {
   "cell_type": "code",
   "execution_count": 145,
   "metadata": {},
   "outputs": [
    {
     "data": {
      "text/plain": [
       "['이것은 서울에서 인기있는 명승지입니다. 그것은 한국의 전통 가옥과 거리로 유명합니다. 많은 관광객들이 한국의 전통 의상을 경험합니다. 관광객들이 여전히 사진을 찍고 큰소리로 이야기하는 동안 \"더 이상 관광객이 아니며, 우리는 소음으로 고통 받고 있습니다\"라는 많은 화난 배너를 볼 수 있다는 것은 아이러니입니다.',\n",
       " '이것은 주거 지역입니다. 나는 한국의 전통 가옥을 보여 주겠다는 생각에 감탄하지만 (몇 채의 집만 열리고 들어갈 수 있도록 허용됨), 그곳에 사는 사람들을 돌보는 일을 여전히 좋아합니다. 배너를 들고 서서 모든 방문객이 꽤 깨끗해 지도록 상기시키는 사람들이있었습니다. 마을 주변에는 작은 찻집, 카페 및 상점을 찾을 수 있습니다.',\n",
       " '그것은 lovely 히 충분히 보인다. 그러나 나는 대부분의 상점이 닫혔고 명확히 7 월말에 없었기 때문에 나는 월요일에 여기에 오는 것을 피할 것이다. 열은 단지 참을 수 없었습니다. 내가하고 싶었던 모든 것은 실내에서 머물기위한 것이 었습니다.',\n",
       " '우리는보기 위해 많은 장소, 지방의 레스토랑, 상점을 걸었다. 박물관 및 미술관. 맹인이 이끄는 어둠을 경험할 수있는 곳이기도합니다.',\n",
       " '내 딸은 서울에 살기 때문에 여기에 데려갔습니다. 매우 매력적인 한국의 마을입니다. 많은 한국인이 이곳에 살고 있습니다. 그것은 아름답습니다. 만일 당신이 바른 장소에 있다면 당신은 그 뒤의 새로운 서울과 함께 옛것의 사진을 얻을 수 있습니다. 우리는 여기서 걸어 다니는 것을 좋아했습니다.',\n",
       " '단장 한 한국 전통 가옥이 많이 있습니다. 당신은 그 지역을 탐험하기 위해 걸어 다닐 수 있으며 매우 그림 같이 아름답습니다. 집들 중 일부는 상점으로 개조되어 방문하여 사진을 찍을 수 있습니다. 많은 작은 상점과 카페가 여기에 있습니다. 그래서 피곤할 때 멈추거나 긴장을 풀 수 있습니다.',\n",
       " '아래의 현대적인 거리 위에 자리 잡고있는 북촌 한옥 마을은 여름철 황혼 때 가장 방문하기에 좋으며, 낮은 건물과 그 세부 사항을 부드러운 노을로 쬐고 있습니다. 다른 평론가의 의견에 따르면, 일부 지역 주민은주의를 싫어하고 사람들에게 정중하고 조용하게달라고 간판을 표시합니다. 나는 기꺼이 기꺼이 요청했다. 그러나 세계에서 가장 인구가 많은 국가가 아직 서울을 여행하지 않고 있다는 사실을 감안할 때 일부 관광객들이 지금 팔 수있는 소음에 불만을 가진 사람들을위한 최선의 조언이 될 것입니다. 그럼에도 불구하고 호기심 많은 여행자에게는 멋진 사진 촬영 기회가 많이 있으며 쇼핑몰과 카페도 숨겨져 있습니다. 좋은 액세스 포인트는 경복궁 동쪽에서 북동쪽으로 이어지는 삼천로입니다. 보도와지도를 따라 카페와 가옥 사이에 좁고 가파른 계단이 사라질 때까지 (Google지도 : 37.584644, 126.982128) 계단을 오르면 아래의 삼천로가 내려다 보이는 거리에 곧 도착할 것입니다. 경복궁을 다시 볼 수 있습니다. . 조심스럽게 표지판을 따라 가면 근사하게 복원되고 유지 된 집의 거리에서 곧 발견 될 것입니다. 점차적으로 뒤틀린 뒤 좁은 길을 남쪽 방향으로 내리막 길을 걷기 전에 동쪽 방향으로 거리를 따라 가십시오. 유곡 -로 (Yulkok-Ro)에 다가 가면 황혼을 방문하여 훌륭한 저녁 식사 기회를 얻을 수 있습니다.',\n",
       " '이것은 멋진 건물과 건축물이있는 장소이지만 주거 지역이기 때문에 주민들은이 장소를 방문하는 관광객들에게는 만족스럽지 않고 관광객을 환영하지 않는다는 배너와 표지판을 올려 놓았습니다. 우리가 부드럽게 말해야한다는 표시도있었습니다. 메인 스트리트에 더 가깝게 안내가 있었고, 걷는 데 도움이되는지도를 얻을 수 있습니다.',\n",
       " '어쩌면 더운 여름이었고 탈수와 배고픔에 시달렸으며 북촌 한옥 마을 방문은 서울에서의 최고의 경험이 아니 었습니다. 우리는 걸었고, 걸었고, 전통 집과 더불어 작은 작은 뒷골목 위에왔다, 그것은 그 것이었다! !! 전통 한복을 입은 많은 방문객을보고 100도 날씨에서 자세를 취하는 것은 재미있었습니다. 높은 평가를받은 인삼 치킨 수프 레스토랑은 실망스럽고, 너무 덥고, 맛이없고, 품종이 다양했습니다. 어떤 메뉴 선택 사항입니까? 레스토랑은 우리 방문 동안 단지 1 개의 접시를 내었다.',\n",
       " \"Backdated post : 2017 년 5 월. 한옥 건축물에 감탄하면서 사랑 받았다. 놀랄만한 목재 일과 도와는 매우 귀여웠다. 봄 또는 가을에 갈 것을 권장 5 월에 아주 뜨거운. 가이드 중 하나에서지도를 가져 와서 안내하십시오. 이 지역을 빠져 나오면 길을 따라 유명한 녹차 카페 인 O'Sulloc 카페를 발견 할 수 있습니다.\"]"
      ]
     },
     "execution_count": 145,
     "metadata": {},
     "output_type": "execute_result"
    }
   ],
   "source": [
    "datalist"
   ]
  },
  {
   "cell_type": "code",
   "execution_count": 101,
   "metadata": {},
   "outputs": [],
   "source": [
    "#<더 보기>버튼 통합 부분. 아직 테스트중\n",
    "auto = \"label.label\"\n",
    "autobutton = \"input.submitOnClick\"\n",
    "CSS_more=\"span.taLnk.ulBlueLinks\"\n",
    "CSS_review=\"div.review\"\n",
    "reviews = browser.find_elements_by_css_selector(CSS_review)\n",
    "for review in reviews:\n",
    "    try: \n",
    "        tran_auto = browser.find_element_by_css_selector(auto)\n",
    "        auto_button = tran_auto.find_element_by_css_selector(autobutton)\n",
    "        AC(browser).move_to_element(auto_button).click().perform()\n",
    "        more_button = review.find_element_by_css_selector(CSS_more)\n",
    "        if more_button.text == \"더 보기\":\n",
    "            more_button.click()\n",
    "    except : pass\n",
    "    text = \"p.partial_entry\"\n",
    "    texts = browser.find_element_by_css_selector(text)\n"
   ]
  },
  {
   "cell_type": "code",
   "execution_count": 82,
   "metadata": {},
   "outputs": [
    {
     "data": {
      "text/plain": [
       "[]"
      ]
     },
     "execution_count": 82,
     "metadata": {},
     "output_type": "execute_result"
    }
   ],
   "source": [
    "datalist"
   ]
  }
 ],
 "metadata": {
  "kernelspec": {
   "display_name": "Python 3",
   "language": "python",
   "name": "python3"
  },
  "language_info": {
   "codemirror_mode": {
    "name": "ipython",
    "version": 3
   },
   "file_extension": ".py",
   "mimetype": "text/x-python",
   "name": "python",
   "nbconvert_exporter": "python",
   "pygments_lexer": "ipython3",
   "version": "3.7.0"
  }
 },
 "nbformat": 4,
 "nbformat_minor": 2
}

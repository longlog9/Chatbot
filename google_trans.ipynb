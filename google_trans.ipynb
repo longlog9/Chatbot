{
 "cells": [
  {
   "cell_type": "code",
   "execution_count": 6,
   "metadata": {},
   "outputs": [],
   "source": [
    "#Allows you to launch/initialise a browser.\n",
    "from selenium import webdriver\n",
    "#Allows you to search for things using specific parameters\n",
    "from selenium.webdriver.common.by import By\n",
    "#Allows you to wait for a page to load.\n",
    "from selenium.webdriver.support.ui import WebDriverWait\n",
    "#Specify what you are looking for on a specific page in order to determine that the webpage has loaded.\n",
    "from selenium.webdriver.support import expected_conditions as EC\n",
    "#Handling a timeout situation.\n",
    "from selenium.common.exceptions import TimeoutException\n",
    "from selenium.webdriver import ActionChains as AC\n",
    "import requests\n",
    "from bs4 import BeautifulSoup as bs\n",
    "from selenium.webdriver.common.keys import Keys\n",
    "import pandas as pd\n",
    "import time\n",
    "import os\n",
    "import re"
   ]
  },
  {
   "cell_type": "code",
   "execution_count": 2,
   "metadata": {
    "scrolled": true
   },
   "outputs": [],
   "source": [
    "#chrome driver 불어오기\n",
    "driver = webdriver.Chrome('chromedriver.exe')"
   ]
  },
  {
   "cell_type": "code",
   "execution_count": 3,
   "metadata": {},
   "outputs": [],
   "source": [
    "#기본 설정\n",
    "#맥주: hoegaarden\n",
    "base_url = 'https://translate.google.com/?um=1&ie=UTF-8&hl=ko&client=tw-ob#view=home&op=translate&sl=auto&tl=ko'\n",
    "driver.get(base_url)\n",
    "time.sleep(0.2)"
   ]
  },
  {
   "cell_type": "code",
   "execution_count": 9,
   "metadata": {},
   "outputs": [],
   "source": [
    "#데이터 불러오기\n",
    "beer_Pilsen= pd.read_csv('beer_필스너.csv', encoding = 'utf-8')"
   ]
  },
  {
   "cell_type": "code",
   "execution_count": 11,
   "metadata": {},
   "outputs": [
    {
     "data": {
      "text/html": [
       "<div>\n",
       "<style scoped>\n",
       "    .dataframe tbody tr th:only-of-type {\n",
       "        vertical-align: middle;\n",
       "    }\n",
       "\n",
       "    .dataframe tbody tr th {\n",
       "        vertical-align: top;\n",
       "    }\n",
       "\n",
       "    .dataframe thead th {\n",
       "        text-align: right;\n",
       "    }\n",
       "</style>\n",
       "<table border=\"1\" class=\"dataframe\">\n",
       "  <thead>\n",
       "    <tr style=\"text-align: right;\">\n",
       "      <th></th>\n",
       "      <th>reviews</th>\n",
       "    </tr>\n",
       "  </thead>\n",
       "  <tbody>\n",
       "    <tr>\n",
       "      <th>0</th>\n",
       "      <td>It is a decent beer , but it is slightly overr...</td>\n",
       "    </tr>\n",
       "    <tr>\n",
       "      <th>1</th>\n",
       "      <td>biscuits, herbs, lemon grass, butter, golden, ...</td>\n",
       "    </tr>\n",
       "    <tr>\n",
       "      <th>2</th>\n",
       "      <td>Tall, rocky white head.\\r\\nAdmittedly very wea...</td>\n",
       "    </tr>\n",
       "    <tr>\n",
       "      <th>3</th>\n",
       "      <td>First time drink this beer and I think it remi...</td>\n",
       "    </tr>\n",
       "    <tr>\n",
       "      <th>4</th>\n",
       "      <td>Golden color with a spicy hop aroma.  Taste is...</td>\n",
       "    </tr>\n",
       "    <tr>\n",
       "      <th>5</th>\n",
       "      <td>Probada varias veces, en botella y de barril. ...</td>\n",
       "    </tr>\n",
       "    <tr>\n",
       "      <th>6</th>\n",
       "      <td>01.06.2015 -- pours clear golden colour with a...</td>\n",
       "    </tr>\n",
       "    <tr>\n",
       "      <th>7</th>\n",
       "      <td>Piana obfita, niezbyt trwała, pozostaje korzus...</td>\n",
       "    </tr>\n",
       "    <tr>\n",
       "      <th>8</th>\n",
       "      <td>klasyk wsórd pilsów, pyszne piwo z zaostrzoną ...</td>\n",
       "    </tr>\n",
       "    <tr>\n",
       "      <th>9</th>\n",
       "      <td>0,5l can. Pours clear straw/golden with white ...</td>\n",
       "    </tr>\n",
       "    <tr>\n",
       "      <th>10</th>\n",
       "      <td>Česká ležáková klasika. Ideální sladovost i ho...</td>\n",
       "    </tr>\n",
       "    <tr>\n",
       "      <th>11</th>\n",
       "      <td>Aroma: cracker, biscuit malt. grassy and littl...</td>\n",
       "    </tr>\n",
       "    <tr>\n",
       "      <th>12</th>\n",
       "      <td>About as good as it gets \\r\\r\\nPilsner is very...</td>\n",
       "    </tr>\n",
       "    <tr>\n",
       "      <th>13</th>\n",
       "      <td>Sehr gutes Pils (kommt ja auch von der Urquell...</td>\n",
       "    </tr>\n",
       "    <tr>\n",
       "      <th>14</th>\n",
       "      <td>Bottle.  Refined, subdued hoppy aroma and flav...</td>\n",
       "    </tr>\n",
       "    <tr>\n",
       "      <th>15</th>\n",
       "      <td>Piwo złociste, klarowne.\\r\\nPiana biała, dość ...</td>\n",
       "    </tr>\n",
       "    <tr>\n",
       "      <th>16</th>\n",
       "      <td>Bitter, hoppy pilsener. Malty and very fresh. ...</td>\n",
       "    </tr>\n",
       "    <tr>\n",
       "      <th>17</th>\n",
       "      <td>Yardstick? Yes, of course... though Heinecken ...</td>\n",
       "    </tr>\n",
       "    <tr>\n",
       "      <th>18</th>\n",
       "      <td>Una de las mejores Pilsner industriales que pu...</td>\n",
       "    </tr>\n",
       "    <tr>\n",
       "      <th>19</th>\n",
       "      <td>,.. it has Compact White head, full bodied Tas...</td>\n",
       "    </tr>\n",
       "  </tbody>\n",
       "</table>\n",
       "</div>"
      ],
      "text/plain": [
       "                                              reviews\n",
       "0   It is a decent beer , but it is slightly overr...\n",
       "1   biscuits, herbs, lemon grass, butter, golden, ...\n",
       "2   Tall, rocky white head.\\r\\nAdmittedly very wea...\n",
       "3   First time drink this beer and I think it remi...\n",
       "4   Golden color with a spicy hop aroma.  Taste is...\n",
       "5   Probada varias veces, en botella y de barril. ...\n",
       "6   01.06.2015 -- pours clear golden colour with a...\n",
       "7   Piana obfita, niezbyt trwała, pozostaje korzus...\n",
       "8   klasyk wsórd pilsów, pyszne piwo z zaostrzoną ...\n",
       "9   0,5l can. Pours clear straw/golden with white ...\n",
       "10  Česká ležáková klasika. Ideální sladovost i ho...\n",
       "11  Aroma: cracker, biscuit malt. grassy and littl...\n",
       "12  About as good as it gets \\r\\r\\nPilsner is very...\n",
       "13  Sehr gutes Pils (kommt ja auch von der Urquell...\n",
       "14  Bottle.  Refined, subdued hoppy aroma and flav...\n",
       "15  Piwo złociste, klarowne.\\r\\nPiana biała, dość ...\n",
       "16  Bitter, hoppy pilsener. Malty and very fresh. ...\n",
       "17  Yardstick? Yes, of course... though Heinecken ...\n",
       "18  Una de las mejores Pilsner industriales que pu...\n",
       "19  ,.. it has Compact White head, full bodied Tas..."
      ]
     },
     "execution_count": 11,
     "metadata": {},
     "output_type": "execute_result"
    }
   ],
   "source": [
    "beer_Pilsen.head(20)"
   ]
  },
  {
   "cell_type": "code",
   "execution_count": 15,
   "metadata": {},
   "outputs": [],
   "source": [
    "#텍스트 파일로 바꾸기 \n",
    "beer_Pilsen.to_csv('beer_필스너.txt', encoding='utf-8',  index = False, header = False)\n",
    "file = open('beer_필스너.txt', 'r', encoding = 'utf-8')\n",
    "file_open = file.read()\n",
    "#print(file_open)\n",
    "file.close()"
   ]
  },
  {
   "cell_type": "code",
   "execution_count": 97,
   "metadata": {},
   "outputs": [],
   "source": [
    "#element = driver.find_element_by_xpath(\"//div[@class='go-button jfk-button']\")\n",
    "#driver.execute_script(\"arguments[0].click();\", element)"
   ]
  },
  {
   "cell_type": "code",
   "execution_count": 181,
   "metadata": {},
   "outputs": [],
   "source": [
    "review_list = []\n",
    "for i in range(0,3):\n",
    "    soup = bs(driver.page_source, 'html.parser')\n",
    "    time.sleep(1)\n",
    "    # 해당 내용만 찾아 선택한다.\n",
    "    reviews = soup.find(\"span\",\"tlid-translation translation\")\n",
    "    #이중 반복이므로 일단 끈다.\n",
    "    #review_list.append({'reviews' : reviews})\n",
    "    #reviews를 contents 형식으로 변환해서 각 리스트를 하나씩 가져온다.\n",
    "    for review in reviews.contents:\n",
    "        #만일, 해당 review의 타입이 bs4.element.tag가 아닐 경우에\n",
    "        if type(review) != type(reviews.contents[1]):\n",
    "            review  = re.sub('<.+?>', '', review, 0).strip()\n",
    "            review_list.append(review)\n",
    "        else : pass\n",
    "    try:\n",
    "        driver.find_element_by_css_selector('span#gt-ovfl-xlt').click() # 다음 넘어가기 \n",
    "        time.sleep(3)\n",
    "    except:\n",
    "        pass"
   ]
  },
  {
   "cell_type": "code",
   "execution_count": 182,
   "metadata": {
    "scrolled": false
   },
   "outputs": [
    {
     "data": {
      "text/plain": [
       "['D 쓰라린. 구김살 : 가볍고 중간 크기의 바디, 신선하고 상쾌한 느낌. \"',\n",
       " '이쑤시개와 함께 먹는 이국적인 과일과 채소의 과일과 채소와 함께 ...',\n",
       " '\"고마워하는 시도가 너무 많아 ... 사실, 색을 제외하고는 이것에 대해 아무것도 밝혀지지 않았다. 여기에 단맛과 쓴 맛이 모두 무겁고 정말로 불안해 보인다. 뒷맛은 오랫동안 당신을 따라 간다. 자신의 스타일,하지만 ... 미안한 팬 들이지, 내 맥주 한잔하지 않아. \"',\n",
       " '\"개스 타운의 Pourhouse에서 수돗물에 담가서 10 온스짜리 잔에 부어서이 쏟아지는 소리가 적다. 호박색이 좋다. 슈퍼 홉 맥주는 아니지만 괜찮은 쓰라린 맥주는 모두 똑같다. 몇 년 전에 아이러니하게도 내가 지금 평가를 쓰지 못 했어! 아직도 원래의 필자 야. 니스! ... \"',\n",
       " '\"아로마 테라피와 아로마 테라피, 아로마 스킨 케어, 아로마 스킨 케어, 아로마 테라피, 아로마 테라피, 아로마 테라피, 아로마 테라피, 아로마 테라피, 아로마 테라피,',\n",
       " '\"Pilsner Urquell 레스토랑의 탱크에서 두드리기.',\n",
       " '나는 \"\"Snyt \"\"라고 주문하고 키 큰 흰 머리를 가진 밝은 금빛을 받았다.',\n",
       " '일부 오렌지 마멀레이드와 신선한 scones의 테이블처럼 냄새.',\n",
       " '탄력있게 가볍게 탄력 있고 빵의 맛, 마무리에서 뚜렷하고 균형 잡힌 쓴 맛.',\n",
       " '완벽하고 신선하고 정통,',\n",
       " '스웨덴에서도 병과 같은 평가를받지는 않을 것입니다. \"',\n",
       " '\"Pilsnerien Pilsneri, Eli The Pilsneri, Maista ihmeessa ja kokeile. Kevyt mutta maukas olemus.',\n",
       " '\"Стандартный чешский пильсер, все отлично, вкус, цвет, аромат. Единственный минус : завышенная цена в России.\"',\n",
       " '\"유행에 민감한 330ml는 6 팩에서 나올 수 있습니다. 꿀 색의 흰색 머리가 사라지고 달콤한 향기가납니다. 씹는 맛은 너무 탄산되어 맛없는 뒷맛이납니다.\"',\n",
       " '\"2018 년 6 월. 월드컵 맥주 팩의 일부인 BeerWulf에서 추출한 330ml 병. 원래의 엷은 라거. 약간의 단점이 있지만, 인상적인 음료이며, 약간의 짠 맛이납니다. 이것은 죽음의 시작이었습니다. 흥미로운 맥주의 첫 번째 흰색 얇게 썬 빵과 마찬가지로 빵의 죽음이 시작되었습니다. [2.4] ... \"',\n",
       " '\"아로마 테라피, 아로마 테라피, 아로마 테라피, 아로마 테라피, 아로마 테라피, 아로마 테라피, 레오파드,',\n",
       " '\"어떤 진절머리 나는 슈퍼마켓에서나 얻을 수있는 값싼 맥주를 원한다면 Pilner Urquell에 잘못 갈 수는 없으며 뜨거운 여름날과 두 캔을 냉장고에 넣는 것보다 뛰어납니다.\"',\n",
       " '\"RB가 시작되기 전에 여러 번 즐겼지만 Roselle, IL의 Bulldog Ale House에서 전체 셰이커를 주문하여 다시 확인하고 메모하기로 결정했습니다. 깨끗한 황금빛 색조와 부드러운 흰색 거품, 코는 부드럽고 가볍게 단맛이 나는 곡물이었으며, 약간의 풀과 미묘한 향신료가 섞여 있었으며, 미디엄 바디는 적절한 탄산염을 사용하여 유쾌한 입 냄새, 약간의 미네랄 쓴 맛을 호소했다.',\n",
       " '\"아로마, 허브, 버터, 맥아 즙이별로 없으며 탄산염과 건조한 몸체. 철저한 냄새가 나는 맛이 나는 맛 (아마도 홉, 탱크가 아님) 중간 정도지만 오래 지속되는 그녀의 괴로움. 평균 하이네켄이나 칼스버그보다 낫다. \"',\n",
       " '\"Tyckiktig tsjekkisk øl.',\n",
       " '전체 하나님 øl 전체. Noaz som ikke liker 아로마 씰 Saazhumlen. 남자는 남자 답다. Synes는 대저택에 도착했다.',\n",
       " '170910 \"',\n",
       " '\"330cm의 서비스와 Pilsner Urquell의 서비스를 제공합니다. 칼라 도미노 (oro viejo), brillante, cristalina, 카보네이트와 코코 나 코로나 드 스페인 retención.Instos, 아로마 아들 intensos와 팬 블랑코 콘서트 꽃과 특별 행사 채식주의, 채식주의, 채식주의, 야채, 맛있는, 스낵, 작게, 샐러드, 잘 익은, 빨강, 날 것의, 생산, 공장, 유기, 자연, 자연,',\n",
       " '\"탱크, 가벼운 황금색 몸체의 인상적인 고밀도 화이트 헤드 꽃이 가득한 홉, 곡물, 가벼운 꿀, 곡물 가벼운 단맛, 미묘한 광물질 촉감, 가벼운 괴로움 부드러운 카보네이션으로 부드럽고 가벼운 바디 매우 균형 잡힌 우연히 Pilsner가 아니라. 오스트리아의 산업 저장고로 돌아가서 울어 라. \"',\n",
       " '\"아로마는 낟알이고 신선한 곡물, 짚 및 일부 허브의 힌트가있는 꽃입니다 ... 그 맛은 곡식, 건초 및 일부 목초 ... 쓴맛 및 건조한 뒷맛이있는 매우 분명하고 상쾌합니다. . \"',\n",
       " '\"역사에 따르면 체코 인들은 잠시 동안 맥주를 만든다.하지만 1820 ~ 30 년대에는 맥주를 에일 맥주로 만들었고, 30 년대 후반에는 사람들이 다양한 품질의 음식을 먹기 시작했다. 맥주를 마 셨으며 많은 배럴을 산산조각 냈습니다. 그래서 Pilsen시는 바이에른 스타일의 맥주를 만들기로 결정했습니다. Joseph Groll 바이에른 마스터는 Pilsen에 초대 받았고 1839 년에 양조장이 태어났습니다. 거의 모든 br',\n",
       " 'ewery는 베어링을 생산했습니다. 그래서이 캠프는 발효 바닥이며, 그것은 매우 강력하고 향기로운 맛 캠프가 있습니다. 어쨌든, 나는 거기에 작은 차이가 있다고 생각합니다 ... \"',\n",
       " '\"Wyczuwalna goryczka. 년 Aromat spoko, typowo lagerowy. Czuć는 alkoholu하지 않습니다. 농담 dobrze.\"',\n",
       " '는 \"필스너 우르 켈, 품질 지속적으로 좋은. 거의 모든 곳에서. 아마도 가능한 모든 대량 맥주에 가장 좋은 대안입니다 평소와 같이, 다른 거기 Urquell를 복잡하지 않은, 마실. Ifs의 아무것도 간다.\"',\n",
       " '\"T는 정말 호피, 정확히 고전 필스너, 모든 pilsners의 아버지로부터 한 기대\"',\n",
       " '\"konkretną Goraczka 잘 upał idealne piwo. Zbożowe. 공동 Z TEGO ZE lekki aromacie. 탁 엄마 BYC, A I 탁 농담 fajnie w 스컹크의 CZY의 아세틸.\"',\n",
       " '\"나는 캔에서 있었다. 맛 시리얼, 잔디, 약간의 괴로움이다. 그것은 느린 괴로움과 약간 달콤한입니다. 그것은 다소 가시 탄화 있어요. 아직 고체 간단합니다.\"',\n",
       " \"Cette BIERE 추정 plutôt 봉 더보기 JE regrette qu'elle soit시 sucrée! Dommage.\",\n",
       " '\"탭 @Staromestska (필스너 우르 켈 원래 레스토랑), 프라하, 체코. 거대한 흰색 조밀 한 머리 골든 분명, 딸기, 맥아, 곡물의 좋은 레이싱. 아로마, 감귤류의 비트에서. 쓴 맛, 오래 쓴 마감, 평균 탄화. 데 쓰라린, 상쾌, 아주 좋은. \"',\n",
       " '마케팅은 평균 품질의 맥주를 강력하게 지원했습니다. 체코에는 훨씬 더 많은 열매가 있습니다.',\n",
       " '높은, 따끔 거림에 \"병. 클리어 골드, 아주 예쁜 엿기름 두껍고 유전자 집회 안정하지만, 화이트 헤드, 일부 레이싱. 아로마, 비스킷, 잔디, 호피. 버튼 부드럽고 다정 다감하지. 탄산화 매체. 고, 잔디에 괴로움 매체 , 호피. 엿기름 뒷맛, 호피, bready, 잔디. 좋아. \"',\n",
       " 'PILS 유리 33cl의 \"병, 냉장고에서.',\n",
       " '따라서, 최초이자 유일한 PILS는 ... PILS입니다. 좋은 일 (입 맛 숙박,하지만 너무 오래되지 않음)하지만 최고. 즐겁고 상쾌 해. \"',\n",
       " '\"나기 klasszikus ... 도끼 hiszem 별점 켈 különösen megmagyarázni miért ... Szerencsére있는 대부분 megszokott의 minőség, AZ 가져 오기가 Stílus ES kategória Alkotó ... Egy 공급 ismerőst idézve (입니다).\" \"괜찮다 több, 자체 kevesebb는\" \" ) \"',\n",
       " '\"텔라 33cl. 사령관 필스너는 더 defrauda없는 루이의 텐자. Sabor 시리얼 보라 absoluto. Equilibrio 독창적 인 lupulado의 cuerpo y를 메디 - 리게. 컬러 도라 y를 espuma 엉, pobre을 semitostado 없습니다.',\n",
       " 'lupulado 가야 자체 HACE 비엔 드 공증시 비엔 estamos hablando 드 우나 캠프 regusto Presenta 않은 부엔. \"',\n",
       " '맥아의 .. 중간 단맛과 매체 쓴 노트, 곡물, 일부 호피 : \"집에서 33cl 병, Slijterij 흐로 닝언, Vismarkt 외관 :. 매체 화이트 헤드 아로마와 맑은 황금 :. 빛 맥아, 곡물, 일부 잔디와 건초 버튼에서 구입 괴로움을 구개. 라이트 바디, 활기찬 탄산 좋은 버섯에 매끄러운 질감과 매체 \"..',\n",
       " '페인트는 \"프라하. 몇 번, 흰색의 작은 머리를 지속하는 거품 황금 분명 쏟아지는 탭에서이 있었다. 향기는 잔디, 홉 및 곡물. 그것은 \\'독일과 같은\\'매체 달콤한 빛, 거친 맛, 포함 쓴. 롱, 건조, 거친 마무리, 갑자기 심술 궂은. 매체 몸, 매끄러운 / 기름진 질감, 탄산 탄산. 아주 좋은 필스너. (05/06/17를 편집) \"',\n",
       " '\"낮은 화이트 헤드와 골든 컬러. 아로마 신선한, 고귀한 홉, 깨끗한 곡물 빵. 입의 모든 시리얼, 작은 구이, 상당히 높은 괴로움이다. 신선한 빛과 고전!\"',\n",
       " '상쾌하고, 마실 수있는. \"',\n",
       " '\"우나 buona의 PILS, perfettamente aderente여보세요 회전식 : leggera, FRESCA, carbonazione 비 eccessiva 전자 luppolatura는 previsto의 Dallo와 스타일을 온다.\"',\n",
       " '\"0.5 리터 할 수있는 가장 9월 2018 지우기 전에, 곡물, 일부 밀짚과 감귤류의 흔적의 중간 화이트 헤드, 안정, 큰 거품. 약간 달콤한 약간 잔디 - 매운 향기 황금. 약간 달콤한, 적당히 쓴, 꽤 짧은 적당히 쓴, 아주 풀잎 매운 마무리로 이어 곡물, 밀짚, 감귤류의 흔적과 바닐라의 터치 - 잔디 매운 최소한 버터 맛. 몸 매체, 부드럽고 약간의 발포성 식감, 부드러운 탄산. 방법은 더 나은 때 신선한, 바삭 양호 캠프의 많은 여전히 \\u200b\\u200b좋은 양조. ... \"',\n",
       " '\"BARWA ciemnosłomkowa, 피아 z는 dużymi의 pęcherzykami, szybko opada 새겨 lacingu. finiszu. 베츠 Specjalnych aromatów REF w smaku lekka goryczka I słodkość W는 에일 piwo JAK NA popularny 저장 całkiem의 niezłe을 doznań wielkich.\"',\n",
       " '\"병. 귀족 홉 smell.Slightly 달콤한했던 모든 밑줄, 백 엔드에 sharpish의 괴로움과 ... 빛 그림을 맛 빠르게 사라 얇은 머리, 황금 넣는다? 얇은 식감하지만 건조하지 .. 괜찮아 ..\"',\n",
       " '\"병. 클리어 황금 색상. 선명 신선한 보리 빛 홉. 약간의 과일. 가벼운 몸. 평균 탄화. 좋은 필스너.',\n",
       " '--- iPhone 용 맥주 버디를 통해 평가 \"',\n",
       " '\"다른 맥주처럼 (대부분의) 병 =의 취향 대 누릅니다.',\n",
       " '프라하에서 누릅니다. 회화, 비스킷 및 잔디 향기 라이트 골드. 거대한 거품 머리. 바닐라 플로트 같은 맛이 후 황금 상쾌한 맥주 몇 가지 hopps와, 빛 잔디와 엿기름 비스킷 씹를 통해 제공, 균형, 너무 상쾌, 목에 혀에서 잔뜩 먹이다 느린 조금. ... \"',\n",
       " '\"방법 : 수',\n",
       " '색상 :',\n",
       " '맑은 황금',\n",
       " '머리 : 중간, 흰색',\n",
       " '아로마 : 빵, 경미한 감귤류의 과일 색조 ... \"',\n",
       " '\"레이블이 새겨 져있다 : MAY1418 08:03. 그래서, 나는 그것이 2017 년 5 월에 병에 담긴 것으로 추정한다. 정확히 신선하지는 않다. 멋진 하얀 기포 머리와 거품이 금과 함께 나타나는 조지의 밝은 금색 색이다. 아로마는 낟알, \\u200b\\u200bbready, 양념이다. 맛은 부드럽고 레몬이며 감미로운 맥아가 돋아 난다. 입가가 가늘지 않고 거기에 상당한 양이있다. 홉은 마무리와 뒷맛에 괴로움을 나타 내기 시작한다. 쓴 뒷맛은 꽤 오래 머물러있다. \"',\n",
       " '\"하얀 머리를 가진 금빛 황색이 빨리 남았습니다. 아로마는별로 없었습니다. 입안이 좋았고, 몸이 좋았습니다. 가벼운 홉 맛이었습니다. 정말 좋아했습니다. 나는 마음에 들었습니다. 몸은 나를 특별하게했습니다. 깨끗한 맛이었습니다. 샌프란시스코의 재스퍼 (Jasper \\'s)에서 가볍게 치십시오 .5 %로 표시됩니다. 유리가 따뜻해지면서 나는 거의 맛이 나지 않았고, 옥수수 맛 이었을지도 모릅니다. 아주 좋았습니다.',\n",
       " '--- iPhone 용 맥주 버디를 통해 평가 \"',\n",
       " '\"슈퍼마켓에서 구입 한 33 개짜리 병, 중간색의 흰색 머리에 맑은 황금색을 띄웁니다 홉, 곡물, 맥아의 향기 맛은 향기와 비슷합니다 : 숭어, 낟알, 꽃 도약 라이트 바디, 중간 탄산, 전반적으로 좋은 맥주. \"',\n",
       " '\"보틀, 솜털 같은 흰 머리가있는 클리어 골드, 꽃이 가득한 홉, 곡물 및 디 아세틸이 약간 들어간 아로마 맛은 꿀맛, 매운 꽃 덩어리로 거칠고 부드럽고 쓴 맛이 느껴진다 중 탄산염 부드럽고 부드러운 입안. 상쾌하고 마시고 싶다. \"',\n",
       " '\"몬차의 슈퍼마켓에서 나온 병은 전에도 여러 번 시도해 봤지만 때때로 돌아와서 반갑습니다 옥수수의 맛은 내가 기억하는 것보다 더 뚜렷했습니다. 그러나 얇은 입안, 약간의 맥아, 그 다음 큰 괴로움은 언제나 존재한다. 그것이 바로 그 것이다.',\n",
       " '\"필자가 예상했던 것보다 훨씬 좋았습니다. 좋은 맥주, 시도해 볼 가치가있는 것. 개인적으로 나는 맛이 좋았고 맛은 피스 너와 평소보다 조금 복잡했습니다.',\n",
       " '반복하십시오. Darryll의 Greensboro NC에서 초안 작성. 빠른 날카로운 홉 물린 빛 꽃 향기. 삼키는 후에 쓴맛이 오랫동안 남아 있지 않습니다. 가볍고 상큼하다. 중간 바디. 매우 열매 맺는 맥아 문자. 균형이 잡힌.',\n",
       " '\"나는 항상 이것을 맥주 섬에 넘겨\"Pilsner? MEH \"라고 생각합니다.',\n",
       " '잘 나는 마침내 그것을 시험해 보았다. 그리고 와아! 얼마나 위대한 맛, 너무 부드럽고 예절 바른 맛.',\n",
       " '세계 최초로 Pilsner가 처음으로 올바르게 만들었습니다.',\n",
       " '--- iPhone 용 맥주 버디를 통해 평가 \"',\n",
       " '\"수백 번 더 많은 기회를 거친 후 재평가. 설탕 맥아와 디아 세틸의 버터 바른 냄새가 돋보이는 커다란 풀의 괴로움과 그 매끄러운 풍부함. 많은 주목을받지 못했다. 병 및 드래프트에서 가져 와서 브뤼셀의 이상한 장소에서 에일에서 휴식을 취하기에 좋은 곳입니다. 상쾌하고 지저분하며 쓴 맛이 있습니다. 특히 신선한 생선을 맛볼 때 맛있게 먹을 수 있습니다. 신뢰할 수있다. \"',\n",
       " '내가 제일 좋아하는 pilsner. 항상 내 냉장고에 몇 가지를 포장. 삼촌이 CZ로 여행했을 때 나에게 50 캔을 챙겨주기 위해 얼마나 많은 시간을했는지 기억하지 못합니다. 지금은 캔을 우리 나라에서 수입하고 있습니다. 그러나 나는 아직도 그 세련된 유리 병을 기다리고 있습니다.',\n",
       " '\"클레 시코, 루마니아, 스페인, 스페인, 스페인, 스페인, 프랑스, \\u200b\\u200b스페인, 스페인, 스페인, 스페인, 스페인,',\n",
       " '\"집에서 500ml까지 마실 수 있습니다 .BBE 2018-08-18 S 시장 Pirkkala에서 흰색 머리가있는 맑은 황금색 노란색 맥주. 엿기름, 설탕, 향기로운 홉과 곡물. 중간 바디, 매끄러운 입안, 쓴 핀란드어.\"',\n",
       " 'Cerveza parecida 및 las comerciales pero hecha con cariño. Mucho lúpulo en gusto claramente amargo',\n",
       " '\"조금 놀랐다. 여행 중에 어딘가에서 이것을 평가하지 않았다.',\n",
       " '가는 황금색에 얇은 흰색 머리를.니다. 아로마가 희미합니다. 내가 정말로 얻는 것은 빵과 약간의 꽃 무늬 홉이다. 여기에 적당한 괴로움이 있습니다. 그러나 맛은 더 약하지만 여전히 나쁘지 않습니다. 꽃 요소와 빵과 레몬에 무거운. 꽃 뒷맛. 몸이 가볍고 질감이 얇습니다. 이것은 내가 대학 신입생이라면 놀랄만 한 맥주입니다. 아주 좋지 않다는 것을 의미합니다. \"',\n",
       " '\"체코 슬로바키아 (체코 슬로바키아)는 체코 슬로바키아 공화국 (체코 슬로바키아)에서 처음으로 선포 한 바있다. chmiel, 10 세 디 아세틸.',\n",
       " '최신 정보. w',\n",
       " '\"하얀 머리, 좋은 맛과 표준 pilsner 아로마와 함께 매우 맑은 pilsner. 전반적으로 좋은 맥주\"',\n",
       " '등급은 추억에 근거합니다. ratebeer에 계정을 설정하기 전에 마셔야합니다.',\n",
       " '\"좋은 체코 피캔. 이것은 0.5L에서 할 수 있었다 아주 좋은 .golden, 중간 쓴 맛, 전신, 매끄러운 느낌, 보통 탄산염, 쓴,\"',\n",
       " '\"첫 등급',\n",
       " '최초 등급 날짜 : 1/29/2006',\n",
       " '이 고전적인 체코 pilsner는 정말로 얼마나 좋은가를 보여줍니다.']"
      ]
     },
     "execution_count": 182,
     "metadata": {},
     "output_type": "execute_result"
    }
   ],
   "source": [
    "review_list"
   ]
  },
  {
   "cell_type": "code",
   "execution_count": 11,
   "metadata": {
    "scrolled": true
   },
   "outputs": [],
   "source": [
    "beer_df = pd.DataFrame(review_list)"
   ]
  },
  {
   "cell_type": "code",
   "execution_count": 17,
   "metadata": {},
   "outputs": [],
   "source": [
    "beer_df.to_csv('d2.csv')"
   ]
  },
  {
   "cell_type": "code",
   "execution_count": null,
   "metadata": {},
   "outputs": [],
   "source": []
  }
 ],
 "metadata": {
  "kernelspec": {
   "display_name": "tensor",
   "language": "python",
   "name": "tensorflow35"
  },
  "language_info": {
   "codemirror_mode": {
    "name": "ipython",
    "version": 3
   },
   "file_extension": ".py",
   "mimetype": "text/x-python",
   "name": "python",
   "nbconvert_exporter": "python",
   "pygments_lexer": "ipython3",
   "version": "3.5.5"
  }
 },
 "nbformat": 4,
 "nbformat_minor": 2
}
